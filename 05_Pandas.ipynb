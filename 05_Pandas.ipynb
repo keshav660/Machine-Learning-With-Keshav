{
 "cells": [
  {
   "cell_type": "markdown",
   "id": "a5f91c7d-7796-4d61-b58d-a3d3ee90876b",
   "metadata": {},
   "source": [
    "## Pandas -> To Create data, create table , manipulation"
   ]
  },
  {
   "cell_type": "code",
   "execution_count": 1,
   "id": "3d002133-f100-47b9-a0af-00dea654d227",
   "metadata": {},
   "outputs": [],
   "source": [
    "import pandas as pd\n",
    "import numpy as np"
   ]
  },
  {
   "cell_type": "code",
   "execution_count": 2,
   "id": "1675bf10-e79c-49e6-b74b-a56ebaf78d23",
   "metadata": {},
   "outputs": [],
   "source": [
    "lables = ['w','x','y','z']\n",
    "sample_list = [100,200,300,400]\n",
    "array = np.array([1,2,3,4])\n",
    "dict = {'w':10,'x':20,'y':30,'z':40}"
   ]
  },
  {
   "cell_type": "code",
   "execution_count": 3,
   "id": "a99d399a-f823-4dc0-97c8-40d812ab1395",
   "metadata": {},
   "outputs": [
    {
     "data": {
      "text/plain": [
       "0    1\n",
       "1    2\n",
       "2    3\n",
       "3    4\n",
       "dtype: int32"
      ]
     },
     "execution_count": 3,
     "metadata": {},
     "output_type": "execute_result"
    }
   ],
   "source": [
    "pd.Series(data = array ) ##->> unidimensional data"
   ]
  },
  {
   "cell_type": "code",
   "execution_count": 4,
   "id": "4ba4b367-9354-43c6-a3cf-7250dba8b8d6",
   "metadata": {},
   "outputs": [
    {
     "data": {
      "text/plain": [
       "0    w\n",
       "1    x\n",
       "2    y\n",
       "3    z\n",
       "dtype: object"
      ]
     },
     "execution_count": 4,
     "metadata": {},
     "output_type": "execute_result"
    }
   ],
   "source": [
    "pd.Series(data = lables)"
   ]
  },
  {
   "cell_type": "code",
   "execution_count": 7,
   "id": "99e916a9-9945-49be-8544-4a4deccd5f5b",
   "metadata": {},
   "outputs": [
    {
     "data": {
      "text/plain": [
       "0    100\n",
       "1    200\n",
       "2    300\n",
       "3    400\n",
       "dtype: int64"
      ]
     },
     "execution_count": 7,
     "metadata": {},
     "output_type": "execute_result"
    }
   ],
   "source": [
    "pd.Series(data = sample_list)"
   ]
  },
  {
   "cell_type": "code",
   "execution_count": 9,
   "id": "6cfcc9aa-ec39-483d-9223-9434cf926ca4",
   "metadata": {},
   "outputs": [
    {
     "data": {
      "text/plain": [
       "w    100\n",
       "x    200\n",
       "y    300\n",
       "z    400\n",
       "dtype: int64"
      ]
     },
     "execution_count": 9,
     "metadata": {},
     "output_type": "execute_result"
    }
   ],
   "source": [
    "pd.Series(data = sample_list , index = lables)"
   ]
  },
  {
   "cell_type": "markdown",
   "id": "efa707fc-7999-4f30-8488-c18a6910679e",
   "metadata": {},
   "source": [
    "## you have to read first \n",
    "#### 1. Numpy -> complete\n",
    "#### 2. pandas -> 2 Videos(opt)\n",
    "#### 3. Statistics -> Measures"
   ]
  },
  {
   "cell_type": "code",
   "execution_count": null,
   "id": "53b0727b-d4e4-4e2a-9bf5-054e56ad20e0",
   "metadata": {},
   "outputs": [],
   "source": []
  }
 ],
 "metadata": {
  "kernelspec": {
   "display_name": "Python 3 (ipykernel)",
   "language": "python",
   "name": "python3"
  },
  "language_info": {
   "codemirror_mode": {
    "name": "ipython",
    "version": 3
   },
   "file_extension": ".py",
   "mimetype": "text/x-python",
   "name": "python",
   "nbconvert_exporter": "python",
   "pygments_lexer": "ipython3",
   "version": "3.11.7"
  }
 },
 "nbformat": 4,
 "nbformat_minor": 5
}
