{
 "cells": [
  {
   "cell_type": "code",
   "execution_count": 3,
   "id": "a2eca23f-f459-4fc8-8720-72d83459a37c",
   "metadata": {},
   "outputs": [
    {
     "name": "stdout",
     "output_type": "stream",
     "text": [
      "Collecting seaborn\n",
      "  Downloading seaborn-0.12.2-py3-none-any.whl (293 kB)\n",
      "     ---------------------------------------- 0.0/293.3 kB ? eta -:--:--\n",
      "     ------------------- ------------------ 153.6/293.3 kB 3.1 MB/s eta 0:00:01\n",
      "     -------------------------------------- 293.3/293.3 kB 4.6 MB/s eta 0:00:00\n",
      "Requirement already satisfied: numpy!=1.24.0,>=1.17 in c:\\users\\asus\\anaconda3\\envs\\cnn\\lib\\site-packages (from seaborn) (1.24.3)\n",
      "Requirement already satisfied: pandas>=0.25 in c:\\users\\asus\\anaconda3\\envs\\cnn\\lib\\site-packages (from seaborn) (2.0.3)\n",
      "Requirement already satisfied: matplotlib!=3.6.1,>=3.1 in c:\\users\\asus\\anaconda3\\envs\\cnn\\lib\\site-packages (from seaborn) (3.7.2)\n",
      "Requirement already satisfied: contourpy>=1.0.1 in c:\\users\\asus\\anaconda3\\envs\\cnn\\lib\\site-packages (from matplotlib!=3.6.1,>=3.1->seaborn) (1.1.0)\n",
      "Requirement already satisfied: cycler>=0.10 in c:\\users\\asus\\anaconda3\\envs\\cnn\\lib\\site-packages (from matplotlib!=3.6.1,>=3.1->seaborn) (0.11.0)\n",
      "Requirement already satisfied: fonttools>=4.22.0 in c:\\users\\asus\\anaconda3\\envs\\cnn\\lib\\site-packages (from matplotlib!=3.6.1,>=3.1->seaborn) (4.42.0)\n",
      "Requirement already satisfied: kiwisolver>=1.0.1 in c:\\users\\asus\\anaconda3\\envs\\cnn\\lib\\site-packages (from matplotlib!=3.6.1,>=3.1->seaborn) (1.4.4)\n",
      "Requirement already satisfied: packaging>=20.0 in c:\\users\\asus\\anaconda3\\envs\\cnn\\lib\\site-packages (from matplotlib!=3.6.1,>=3.1->seaborn) (23.1)\n",
      "Requirement already satisfied: pillow>=6.2.0 in c:\\users\\asus\\anaconda3\\envs\\cnn\\lib\\site-packages (from matplotlib!=3.6.1,>=3.1->seaborn) (10.0.0)\n",
      "Requirement already satisfied: pyparsing<3.1,>=2.3.1 in c:\\users\\asus\\anaconda3\\envs\\cnn\\lib\\site-packages (from matplotlib!=3.6.1,>=3.1->seaborn) (3.0.9)\n",
      "Requirement already satisfied: python-dateutil>=2.7 in c:\\users\\asus\\anaconda3\\envs\\cnn\\lib\\site-packages (from matplotlib!=3.6.1,>=3.1->seaborn) (2.8.2)\n",
      "Requirement already satisfied: pytz>=2020.1 in c:\\users\\asus\\anaconda3\\envs\\cnn\\lib\\site-packages (from pandas>=0.25->seaborn) (2023.3)\n",
      "Requirement already satisfied: tzdata>=2022.1 in c:\\users\\asus\\anaconda3\\envs\\cnn\\lib\\site-packages (from pandas>=0.25->seaborn) (2023.3)\n",
      "Requirement already satisfied: six>=1.5 in c:\\users\\asus\\anaconda3\\envs\\cnn\\lib\\site-packages (from python-dateutil>=2.7->matplotlib!=3.6.1,>=3.1->seaborn) (1.16.0)\n",
      "Installing collected packages: seaborn\n",
      "Successfully installed seaborn-0.12.2\n"
     ]
    }
   ],
   "source": [
    "!pip install seaborn"
   ]
  },
  {
   "cell_type": "code",
   "execution_count": 1,
   "id": "18c8eac0-ebeb-4fb5-a072-2415edcefdb9",
   "metadata": {},
   "outputs": [
    {
     "name": "stdout",
     "output_type": "stream",
     "text": [
      "   ID     Name  Age\n",
      "0   1    Alice   25\n",
      "1   2      Bob   30\n",
      "2   3  Charlie   22\n",
      "3   4    David   28\n"
     ]
    }
   ],
   "source": [
    "#You can create a DataFrame from a list of lists, where each inner list represents a row of data:\n",
    "import pandas as pd\n",
    "\n",
    "data = [\n",
    "    [1, 'Alice', 25],\n",
    "    [2, 'Bob', 30],\n",
    "    [3, 'Charlie', 22],\n",
    "    [4, 'David', 28]\n",
    "]\n",
    "\n",
    "columns = ['ID', 'Name', 'Age']\n",
    "\n",
    "df = pd.DataFrame(data, columns=columns)\n",
    "print(df)"
   ]
  },
  {
   "cell_type": "code",
   "execution_count": 2,
   "id": "f2d68baf-796e-4e58-8114-6052a62544f2",
   "metadata": {},
   "outputs": [
    {
     "name": "stdout",
     "output_type": "stream",
     "text": [
      "   ID     Name  Age\n",
      "0   1    Alice   25\n",
      "1   2      Bob   30\n",
      "2   3  Charlie   22\n",
      "3   4    David   28\n"
     ]
    }
   ],
   "source": [
    "#You can also create a DataFrame from a dictionary where keys \n",
    "#represent column names, and values represent lists of data:\n",
    "\n",
    "import pandas as pd\n",
    "\n",
    "data = {\n",
    "    'ID': [1, 2, 3, 4],\n",
    "    'Name': ['Alice', 'Bob', 'Charlie', 'David'],\n",
    "    'Age': [25, 30, 22, 28]\n",
    "}\n",
    "\n",
    "df = pd.DataFrame(data)\n",
    "print(df)"
   ]
  },
  {
   "cell_type": "code",
   "execution_count": 3,
   "id": "9cfe2212-2a7f-4f74-a9ae-f618616acba8",
   "metadata": {},
   "outputs": [
    {
     "name": "stdout",
     "output_type": "stream",
     "text": [
      "   ID     Name  Age\n",
      "0   1    Alice   25\n",
      "1   2      Bob   30\n",
      "2   3  Charlie   22\n",
      "3   4    David   28\n"
     ]
    }
   ],
   "source": [
    "#You can create an empty DataFrame and then add data to it:\n",
    "import pandas as pd\n",
    "\n",
    "df = pd.DataFrame(columns=['ID', 'Name', 'Age'])\n",
    "df.loc[0] = [1, 'Alice', 25]\n",
    "df.loc[1] = [2, 'Bob', 30]\n",
    "df.loc[2] = [3, 'Charlie', 22]\n",
    "df.loc[3] = [4, 'David', 28]\n",
    "print(df)"
   ]
  },
  {
   "cell_type": "code",
   "execution_count": 4,
   "id": "9d2f3215-5d8b-4343-aa8c-99424b784739",
   "metadata": {},
   "outputs": [
    {
     "name": "stdout",
     "output_type": "stream",
     "text": [
      "      Name  Age\n",
      "A    Alice   25\n",
      "B      Bob   30\n",
      "C  Charlie   22\n",
      "D    David   28\n"
     ]
    }
   ],
   "source": [
    "#You can also specify an index for your DataFrame:\n",
    "import pandas as pd\n",
    "\n",
    "data = {\n",
    "    'Name': ['Alice', 'Bob', 'Charlie', 'David'],\n",
    "    'Age': [25, 30, 22, 28]\n",
    "}\n",
    "\n",
    "df = pd.DataFrame(data, index=['A', 'B', 'C', 'D'])\n",
    "print(df)"
   ]
  },
  {
   "cell_type": "code",
   "execution_count": 5,
   "id": "a7646919-3362-4b88-99b8-7131ff98a120",
   "metadata": {},
   "outputs": [
    {
     "name": "stdout",
     "output_type": "stream",
     "text": [
      "            Temperature  Precipitation\n",
      "2023-01-01           32            0.1\n",
      "2023-01-02           35            0.0\n",
      "2023-01-03           30            0.2\n"
     ]
    }
   ],
   "source": [
    "#Creating a DataFrame with DateTime Index:\n",
    "import pandas as pd\n",
    "import datetime\n",
    "\n",
    "dates = [datetime.date(2023, 1, 1), datetime.date(2023, 1, 2), datetime.date(2023, 1, 3)]\n",
    "data = {'Temperature': [32, 35, 30], 'Precipitation': [0.1, 0.0, 0.2]}\n",
    "\n",
    "df = pd.DataFrame(data, index=dates)\n",
    "print(df)"
   ]
  },
  {
   "cell_type": "code",
   "execution_count": 1,
   "id": "07de9209-7e36-4e6b-8ce7-e1352b704329",
   "metadata": {},
   "outputs": [
    {
     "name": "stdout",
     "output_type": "stream",
     "text": [
      "      Name  Age  Gender Age_Group\n",
      "0    Alice   25  Female     Young\n",
      "1      Bob   30    Male       Old\n",
      "2  Charlie   22    Male     Young\n",
      "3    David   28    Male       Old\n",
      "4    Emily   24  Female     Young\n"
     ]
    }
   ],
   "source": [
    "#Creating a DataFrame from External Data (e.g., CSV):\n",
    "import pandas as pd\n",
    "\n",
    "# Assuming 'data.csv' contains the data\n",
    "df = pd.read_csv('processed_data.csv')\n",
    "print(df)"
   ]
  },
  {
   "cell_type": "code",
   "execution_count": 3,
   "id": "658ad9e3-2de7-454b-9d0c-580c2245f21d",
   "metadata": {},
   "outputs": [
    {
     "name": "stdout",
     "output_type": "stream",
     "text": [
      "Initial DataFrame:\n",
      "      Name  Age  Gender\n",
      "0    Alice   25  Female\n",
      "1      Bob   30    Male\n",
      "2  Charlie   22    Male\n",
      "3    David   28    Male\n",
      "4    Emily   24  Female\n",
      "\n",
      "Summary Statistics:\n",
      "             Age\n",
      "count   5.000000\n",
      "mean   25.800000\n",
      "std     3.193744\n",
      "min    22.000000\n",
      "25%    24.000000\n",
      "50%    25.000000\n",
      "75%    28.000000\n",
      "max    30.000000\n",
      "\n",
      "Filtered DataFrame:\n",
      "    Name  Age Gender\n",
      "1    Bob   30   Male\n",
      "3  David   28   Male\n",
      "\n",
      "DataFrame with New Column:\n",
      "      Name  Age  Gender Age_Group\n",
      "0    Alice   25  Female     Young\n",
      "1      Bob   30    Male       Old\n",
      "2  Charlie   22    Male     Young\n",
      "3    David   28    Male       Old\n",
      "4    Emily   24  Female     Young\n",
      "\n",
      "Grouped and Aggregated Data:\n",
      "Gender\n",
      "Female    24.500000\n",
      "Male      26.666667\n",
      "Name: Age, dtype: float64\n",
      "\n",
      "Sorted DataFrame:\n",
      "      Name  Age  Gender Age_Group\n",
      "1      Bob   30    Male       Old\n",
      "3    David   28    Male       Old\n",
      "0    Alice   25  Female     Young\n",
      "4    Emily   24  Female     Young\n",
      "2  Charlie   22    Male     Young\n",
      "\n",
      "DataFrame exported to CSV.\n"
     ]
    }
   ],
   "source": [
    "import pandas as pd\n",
    "\n",
    "# Sample data\n",
    "data = {\n",
    "    'Name': ['Alice', 'Bob', 'Charlie', 'David', 'Emily'],\n",
    "    'Age': [25, 30, 22, 28, 24],\n",
    "    'Gender': ['Female', 'Male', 'Male', 'Male', 'Female']\n",
    "}\n",
    "\n",
    "# Create a DataFrame from the data\n",
    "df = pd.DataFrame(data)\n",
    "\n",
    "# Display the first few rows of the DataFrame\n",
    "print(\"Initial DataFrame:\")\n",
    "print(df.head())\n",
    "\n",
    "# Summary statistics\n",
    "print(\"\\nSummary Statistics:\")\n",
    "print(df.describe())\n",
    "\n",
    "# Filtering rows based on a condition\n",
    "filtered_df = df[df['Age'] > 25]\n",
    "print(\"\\nFiltered DataFrame:\")\n",
    "print(filtered_df)\n",
    "\n",
    "# Adding a new column\n",
    "df['Age_Group'] = df['Age'].apply(lambda age: 'Young' if age <= 25 else 'Old')\n",
    "print(\"\\nDataFrame with New Column:\")\n",
    "print(df)\n",
    "\n",
    "# Grouping and aggregation\n",
    "gender_grouped = df.groupby('Gender')['Age'].mean()\n",
    "print(\"\\nGrouped and Aggregated Data:\")\n",
    "print(gender_grouped)\n",
    "\n",
    "# Sorting by Age in descending order\n",
    "sorted_df = df.sort_values('Age', ascending=False)\n",
    "print(\"\\nSorted DataFrame:\")\n",
    "print(sorted_df)\n",
    "\n",
    "# Exporting to CSV\n",
    "df.to_csv('processed_data.csv', index=False)\n",
    "print(\"\\nDataFrame exported to CSV.\")\n"
   ]
  },
  {
   "cell_type": "code",
   "execution_count": 4,
   "id": "c251e74c-4a70-494e-8897-70a9a58f1ff7",
   "metadata": {},
   "outputs": [
    {
     "name": "stdout",
     "output_type": "stream",
     "text": [
      "      Name   Age  Gender  Math_Score  Science_Score Passed_Exam\n",
      "0    Alice  25.0  Female          85           90.0         Yes\n",
      "1      Bob  30.0    Male          92            NaN         Yes\n",
      "2  Charlie   NaN    Male          78           85.0          No\n",
      "3    David  28.0    Male          88           92.0         Yes\n",
      "4    Emily  24.0  Female          76           88.0          No \n",
      "\n",
      "      Name    Age  Gender  Math_Score  Science_Score Passed_Exam\n",
      "0    Alice  25.00  Female          85           90.0         Yes\n",
      "1      Bob  30.00    Male          92            NaN         Yes\n",
      "2  Charlie  26.75    Male          78           85.0          No\n",
      "3    David  28.00    Male          88           92.0         Yes\n",
      "4    Emily  24.00  Female          76           88.0          No \n",
      "\n",
      "      Name    Age  Gender  Math_Score  Science_Score Passed_Exam\n",
      "0    Alice  25.00  Female          85           90.0         Yes\n",
      "2  Charlie  26.75    Male          78           85.0          No\n",
      "3    David  28.00    Male          88           92.0         Yes\n",
      "4    Emily  24.00  Female          76           88.0          No \n",
      "\n",
      "      Name    Age  Gender  Math_Score  Science_Score  Passed_Exam\n",
      "0    Alice  25.00       0          85           90.0            1\n",
      "2  Charlie  26.75       1          78           85.0            0\n",
      "3    David  28.00       1          88           92.0            1\n",
      "4    Emily  24.00       0          76           88.0            0 \n",
      "\n",
      "Preprocessed DataFrame:\n",
      "      Name    Age  Gender  Math_Score  Science_Score  Passed_Exam\n",
      "0    Alice  25.00       0          85           90.0            1\n",
      "2  Charlie  26.75       1          78           85.0            0\n",
      "3    David  28.00       1          88           92.0            1\n",
      "4    Emily  24.00       0          76           88.0            0 \n",
      "\n"
     ]
    }
   ],
   "source": [
    "import pandas as pd\n",
    "from sklearn.model_selection import train_test_split\n",
    "from sklearn.preprocessing import StandardScaler, LabelEncoder\n",
    "\n",
    "# Sample dataset\n",
    "data = {\n",
    "    'Name': ['Alice', 'Bob', 'Charlie', 'David', 'Emily'],\n",
    "    'Age': [25, 30, None, 28, 24],\n",
    "    'Gender': ['Female', 'Male', 'Male', 'Male', 'Female'],\n",
    "    'Math_Score': [85, 92, 78, 88, 76],\n",
    "    'Science_Score': [90, None, 85, 92, 88],\n",
    "    'Passed_Exam': ['Yes', 'Yes', 'No', 'Yes', 'No']\n",
    "}\n",
    "\n",
    "# Create a DataFrame\n",
    "df = pd.DataFrame(data)\n",
    "print(df, \"\\n\")\n",
    "\n",
    "# Step 1: Handling Missing Values\n",
    "# Fill missing values in 'Age' with the mean age\n",
    "df['Age'].fillna(df['Age'].mean(), inplace=True)\n",
    "print(df, \"\\n\")\n",
    "\n",
    "# Drop rows with missing values in other columns\n",
    "df.dropna(subset=['Science_Score'], inplace=True)\n",
    "print(df, \"\\n\")\n",
    "\n",
    "\n",
    "# Step 2: Encoding Categorical Variables\n",
    "# Convert 'Gender' and 'Passed_Exam' to numeric using Label Encoding\n",
    "label_encoder = LabelEncoder()\n",
    "df['Gender'] = label_encoder.fit_transform(df['Gender'])\n",
    "df['Passed_Exam'] = label_encoder.fit_transform(df['Passed_Exam'])\n",
    "print(df, \"\\n\")\n",
    "\n",
    "\n",
    "# Display the preprocessed data\n",
    "print(\"Preprocessed DataFrame:\")\n",
    "print(df, \"\\n\")\n"
   ]
  },
  {
   "cell_type": "code",
   "execution_count": 31,
   "id": "6487f434-aac4-45e5-9a4a-a41878a899a4",
   "metadata": {},
   "outputs": [
    {
     "name": "stdout",
     "output_type": "stream",
     "text": [
      "         Date  Sales\n",
      "0  2023-01-15    100\n",
      "1  2023-02-20    150\n",
      "2  2023-03-25    200 \n",
      "\n",
      "        Date  Sales  Year  Month  Day\n",
      "0 2023-01-15    100  2023      1   15\n",
      "1 2023-02-20    150  2023      2   20\n",
      "2 2023-03-25    200  2023      3   25\n"
     ]
    }
   ],
   "source": [
    "#Handling DateTime Data:\n",
    "import pandas as pd\n",
    "\n",
    "# Sample dataset with a datetime column\n",
    "data = {\n",
    "    'Date': ['2023-01-15', '2023-02-20', '2023-03-25'],\n",
    "    'Sales': [100, 150, 200]\n",
    "}\n",
    "\n",
    "df = pd.DataFrame(data)\n",
    "print(df, \"\\n\")\n",
    "\n",
    "# Convert the 'Date' column to datetime type\n",
    "df['Date'] = pd.to_datetime(df['Date'])\n",
    "\n",
    "# Extract year, month, and day into separate columns\n",
    "df['Year'] = df['Date'].dt.year\n",
    "df['Month'] = df['Date'].dt.month\n",
    "df['Day'] = df['Date'].dt.day\n",
    "\n",
    "print(df)\n"
   ]
  },
  {
   "cell_type": "code",
   "execution_count": 33,
   "id": "8548caff-332d-4f10-b727-3561152ec423",
   "metadata": {},
   "outputs": [
    {
     "name": "stdout",
     "output_type": "stream",
     "text": [
      "                     Text\n",
      "0           Hello, World!\n",
      "1            How are you?\n",
      "2     Pandas is great!    \n",
      "\n",
      "               Text\n",
      "0     Hello, World!\n",
      "1      How are you?\n",
      "2  Pandas is great! \n",
      "\n",
      "               Text\n",
      "0     hello, world!\n",
      "1      how are you?\n",
      "2  pandas is great! \n",
      "\n",
      "               Text\n",
      "0     hello, world!\n",
      "1      how are you?\n",
      "2  pandas is great! \n",
      "\n"
     ]
    }
   ],
   "source": [
    "#Dealing with Text Data\n",
    "import pandas as pd\n",
    "\n",
    "# Sample dataset with a text column\n",
    "data = {\n",
    "    'Text': ['Hello, World!', 'How are you?', '   Pandas is great!   ']\n",
    "}\n",
    "\n",
    "df = pd.DataFrame(data)\n",
    "print(df, \"\\n\")\n",
    "\n",
    "# Remove leading and trailing whitespace\n",
    "df['Text'] = df['Text'].str.strip()\n",
    "print(df, \"\\n\")\n",
    "\n",
    "# Convert text to lowercase\n",
    "df['Text'] = df['Text'].str.lower()\n",
    "print(df, \"\\n\")\n",
    "\n",
    "# Remove punctuation\n",
    "df['Text'] = df['Text'].str.replace('[^\\w\\s]', '')\n",
    "print(df, \"\\n\")\n",
    "\n",
    "\n"
   ]
  },
  {
   "cell_type": "code",
   "execution_count": null,
   "id": "cd96a236-c474-429e-ad6a-6ff69406f4f0",
   "metadata": {},
   "outputs": [],
   "source": []
  },
  {
   "cell_type": "code",
   "execution_count": null,
   "id": "ae16a526-289d-41c6-901d-c1cc224e75eb",
   "metadata": {},
   "outputs": [],
   "source": []
  },
  {
   "cell_type": "code",
   "execution_count": null,
   "id": "8adcb9b7-da55-4a41-a40d-6730c9185561",
   "metadata": {},
   "outputs": [],
   "source": []
  },
  {
   "cell_type": "code",
   "execution_count": 4,
   "id": "82b85bdc-0926-4ab6-8f3f-944e0f73faa2",
   "metadata": {},
   "outputs": [
    {
     "name": "stdout",
     "output_type": "stream",
     "text": [
      "First few rows of the Iris dataset:\n",
      "   sepal_length  sepal_width  petal_length  petal_width species\n",
      "0           5.1          3.5           1.4          0.2  setosa\n",
      "1           4.9          3.0           1.4          0.2  setosa\n",
      "2           4.7          3.2           1.3          0.2  setosa\n",
      "3           4.6          3.1           1.5          0.2  setosa\n",
      "4           5.0          3.6           1.4          0.2  setosa\n",
      "\n",
      "Summary Statistics:\n",
      "       sepal_length  sepal_width  petal_length  petal_width\n",
      "count    150.000000   150.000000    150.000000   150.000000\n",
      "mean       5.843333     3.057333      3.758000     1.199333\n",
      "std        0.828066     0.435866      1.765298     0.762238\n",
      "min        4.300000     2.000000      1.000000     0.100000\n",
      "25%        5.100000     2.800000      1.600000     0.300000\n",
      "50%        5.800000     3.000000      4.350000     1.300000\n",
      "75%        6.400000     3.300000      5.100000     1.800000\n",
      "max        7.900000     4.400000      6.900000     2.500000\n",
      "\n",
      "Average Petal Length by Species:\n",
      "species\n",
      "setosa        1.462\n",
      "versicolor    4.260\n",
      "virginica     5.552\n",
      "Name: petal_length, dtype: float64\n"
     ]
    },
    {
     "data": {
      "image/png": "[encoded data removed]",
      "text/plain": [
       "<Figure size 640x480 with 1 Axes>"
      ]
     },
     "metadata": {},
     "output_type": "display_data"
    },
    {
     "data": {
      "image/png": "[encoded data removed]",
      "text/plain": [
       "<Figure size 640x480 with 1 Axes>"
      ]
     },
     "metadata": {},
     "output_type": "display_data"
    },
    {
     "data": {
      "image/png": "[encoded data removed]",
      "text/plain": [
       "<Figure size 640x480 with 1 Axes>"
      ]
     },
     "metadata": {},
     "output_type": "display_data"
    },
    {
     "name": "stdout",
     "output_type": "stream",
     "text": [
      "\n",
      "DataFrame exported to CSV.\n"
     ]
    }
   ],
   "source": [
    "import pandas as pd\n",
    "import matplotlib.pyplot as plt\n",
    "import seaborn as sns\n",
    "\n",
    "# Load the Iris dataset from Seaborn\n",
    "iris = sns.load_dataset(\"iris\")\n",
    "\n",
    "# Display the first few rows of the DataFrame\n",
    "print(\"First few rows of the Iris dataset:\")\n",
    "print(iris.head())\n",
    "\n",
    "# Basic data exploration\n",
    "print(\"\\nSummary Statistics:\")\n",
    "print(iris.describe())\n",
    "\n",
    "# Grouping and aggregation (e.g., average petal length by species)\n",
    "species_grouped = iris.groupby('species')['petal_length'].mean()\n",
    "print(\"\\nAverage Petal Length by Species:\")\n",
    "print(species_grouped)\n",
    "\n",
    "# Data visualization\n",
    "# Scatter plot of sepal length vs. sepal width, colored by species\n",
    "sns.scatterplot(x='sepal_length', y='sepal_width', hue='species', data=iris)\n",
    "plt.title(\"Scatter Plot of Sepal Length vs. Sepal Width\")\n",
    "plt.show()\n",
    "\n",
    "# Box plot of petal length by species\n",
    "sns.boxplot(x='species', y='petal_length', data=iris)\n",
    "plt.title(\"Box Plot of Petal Length by Species\")\n",
    "plt.show()\n",
    "\n",
    "# Histogram of sepal length by species\n",
    "sns.histplot(data=iris, x='sepal_length', hue='species', element=\"step\", common_norm=False)\n",
    "plt.title(\"Histogram of Sepal Length by Species\")\n",
    "plt.show()\n",
    "\n",
    "# Exporting the DataFrame to a CSV file\n",
    "iris.to_csv('iris_data.csv', index=False)\n",
    "print(\"\\nDataFrame exported to CSV.\")\n"
   ]
  },
  {
   "cell_type": "code",
   "execution_count": null,
   "id": "e3e9e257-a44d-4d9c-8bf5-9ce9c6b1afa4",
   "metadata": {},
   "outputs": [],
   "source": []
  },
  {
   "cell_type": "code",
   "execution_count": null,
   "id": "d353fe85-182e-4b1e-9c2f-c35575661686",
   "metadata": {},
   "outputs": [],
   "source": []
  }
 ],
 "metadata": {
  "kernelspec": {
   "display_name": "Python 3 (ipykernel)",
   "language": "python",
   "name": "python3"
  },
  "language_info": {
   "codemirror_mode": {
    "name": "ipython",
    "version": 3
   },
   "file_extension": ".py",
   "mimetype": "text/x-python",
   "name": "python",
   "nbconvert_exporter": "python",
   "pygments_lexer": "ipython3",
   "version": "3.11.9"
  }
 },
 "nbformat": 4,
 "nbformat_minor": 5
}
