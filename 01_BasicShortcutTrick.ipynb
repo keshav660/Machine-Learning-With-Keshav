{
 "cells": [
  {
   "cell_type": "code",
   "execution_count": 2,
   "id": "36acf60e-052f-4fc1-b86c-1bd53316e079",
   "metadata": {},
   "outputs": [
    {
     "name": "stdout",
     "output_type": "stream",
     "text": [
      "hello world\n"
     ]
    }
   ],
   "source": [
    "print(\"hello world\")"
   ]
  },
  {
   "cell_type": "code",
   "execution_count": 3,
   "id": "9f634b67-080c-4501-85b3-c572440f50ac",
   "metadata": {},
   "outputs": [
    {
     "name": "stdout",
     "output_type": "stream",
     "text": [
      "welcome\n"
     ]
    }
   ],
   "source": [
    "print(\"welcome\")"
   ]
  },
  {
   "cell_type": "code",
   "execution_count": 4,
   "id": "500f9522-7dda-4132-875b-759654ae020c",
   "metadata": {},
   "outputs": [
    {
     "name": "stdout",
     "output_type": "stream",
     "text": [
      "welcome\n"
     ]
    }
   ],
   "source": [
    "print(\"welcome\")"
   ]
  },
  {
   "cell_type": "code",
   "execution_count": 5,
   "id": "c7ae0817-b7bb-42b0-bee8-d9ba049f0b69",
   "metadata": {},
   "outputs": [
    {
     "name": "stdout",
     "output_type": "stream",
     "text": [
      "shift+enter = run the code \n"
     ]
    }
   ],
   "source": [
    "print(\"shift+enter = run the code \")"
   ]
  },
  {
   "cell_type": "markdown",
   "id": "dc629d23-c2d1-4947-8a50-a18a4e797fc0",
   "metadata": {},
   "source": [
    "### data types ;"
   ]
  },
  {
   "cell_type": "code",
   "execution_count": 7,
   "id": "07dccc5f-d76e-4a67-9e61-f07eed253825",
   "metadata": {},
   "outputs": [
    {
     "name": "stdout",
     "output_type": "stream",
     "text": [
      "markdown shortcut - \n"
     ]
    }
   ],
   "source": [
    "print(\"markdown shortcut - press M then  shift +enter\")"
   ]
  },
  {
   "cell_type": "markdown",
   "id": "90127dc8-afd6-423d-83c8-6428ccedf4e6",
   "metadata": {},
   "source": [
    "# this is markdown "
   ]
  },
  {
   "cell_type": "markdown",
   "id": "75895983-3b2b-485b-8c6e-1dea13a7e575",
   "metadata": {},
   "source": [
    "##### keshav"
   ]
  },
  {
   "cell_type": "markdown",
   "id": "b27d3468-6845-45ab-b6aa-e53b2111a0db",
   "metadata": {},
   "source": [
    "###### hii"
   ]
  },
  {
   "cell_type": "code",
   "execution_count": 2,
   "id": "f71011e2-965d-47a7-84bd-5376c328b85d",
   "metadata": {},
   "outputs": [
    {
     "name": "stdout",
     "output_type": "stream",
     "text": [
      "delete the cell =  press DD OR  X \n"
     ]
    }
   ],
   "source": [
    "print(\"delete the cell =  press DD OR  X \")"
   ]
  },
  {
   "cell_type": "markdown",
   "id": "c6ed6699-536a-4434-8937-55e5caa01ad0",
   "metadata": {},
   "source": [
    "## DATATYPE"
   ]
  },
  {
   "cell_type": "code",
   "execution_count": 7,
   "id": "975dbf62-87b0-45c9-b1c7-1e9f9341369f",
   "metadata": {},
   "outputs": [
    {
     "name": "stdout",
     "output_type": "stream",
     "text": [
      "python\n",
      "<class 'str'>\n"
     ]
    }
   ],
   "source": [
    "a = \"python\"\n",
    "b = type(a);\n",
    "print (a)\n",
    "print(b)"
   ]
  },
  {
   "cell_type": "code",
   "execution_count": 8,
   "id": "5a0fb99e-c339-472f-ae07-5e85e7ff5030",
   "metadata": {},
   "outputs": [
    {
     "name": "stdout",
     "output_type": "stream",
     "text": [
      "4.5\n",
      "<class 'float'>\n"
     ]
    }
   ],
   "source": [
    "a = 4.5\n",
    "b = type(a);\n",
    "print (a)\n",
    "print(b)"
   ]
  },
  {
   "cell_type": "code",
   "execution_count": 9,
   "id": "9504f374-ba8f-4d2f-bc5f-b94be762077f",
   "metadata": {},
   "outputs": [
    {
     "name": "stdout",
     "output_type": "stream",
     "text": [
      "4\n",
      "<class 'int'>\n"
     ]
    }
   ],
   "source": [
    "a = 4\n",
    "b = type(a);\n",
    "print (a)\n",
    "print(b)"
   ]
  },
  {
   "cell_type": "code",
   "execution_count": 12,
   "id": "66d369ab-7cf8-4f93-9d8e-3d839c463571",
   "metadata": {},
   "outputs": [
    {
     "name": "stdout",
     "output_type": "stream",
     "text": [
      "True\n",
      "<class 'bool'>\n"
     ]
    }
   ],
   "source": [
    "a = True\n",
    "b = type(a);\n",
    "print (a)\n",
    "print(b)"
   ]
  },
  {
   "cell_type": "code",
   "execution_count": null,
   "id": "daff26e8-4c7e-4244-82ec-c92608a3e879",
   "metadata": {},
   "outputs": [],
   "source": []
  }
 ],
 "metadata": {
  "kernelspec": {
   "display_name": "Python 3 (ipykernel)",
   "language": "python",
   "name": "python3"
  },
  "language_info": {
   "codemirror_mode": {
    "name": "ipython",
    "version": 3
   },
   "file_extension": ".py",
   "mimetype": "text/x-python",
   "name": "python",
   "nbconvert_exporter": "python",
   "pygments_lexer": "ipython3",
   "version": "3.11.7"
  }
 },
 "nbformat": 4,
 "nbformat_minor": 5
}
