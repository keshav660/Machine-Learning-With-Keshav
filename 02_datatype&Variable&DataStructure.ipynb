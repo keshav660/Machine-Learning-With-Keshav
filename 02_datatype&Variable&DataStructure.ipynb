{
 "cells": [
  {
   "cell_type": "markdown",
   "id": "97508485-cd63-4861-8ff0-02d99f8165f2",
   "metadata": {},
   "source": [
    "### DATA TYPE"
   ]
  },
  {
   "cell_type": "code",
   "execution_count": 1,
   "id": "fcb34e0f-4926-45e6-9b5c-b9325d4a6b25",
   "metadata": {},
   "outputs": [
    {
     "name": "stdout",
     "output_type": "stream",
     "text": [
      "python\n",
      "<class 'str'>\n"
     ]
    }
   ],
   "source": [
    "a = \"python\"\n",
    "b = type(a);\n",
    "print (a)\n",
    "print(b)"
   ]
  },
  {
   "cell_type": "code",
   "execution_count": 2,
   "id": "e69df092-85b5-4880-8ccc-2d251e8b3552",
   "metadata": {},
   "outputs": [
    {
     "name": "stdout",
     "output_type": "stream",
     "text": [
      "4.5\n",
      "<class 'float'>\n"
     ]
    }
   ],
   "source": [
    "a = 4.5\n",
    "b = type(a);\n",
    "print (a)\n",
    "print(b)"
   ]
  },
  {
   "cell_type": "code",
   "execution_count": 3,
   "id": "557284ea-a391-4189-9ed5-ad99226a2280",
   "metadata": {},
   "outputs": [
    {
     "name": "stdout",
     "output_type": "stream",
     "text": [
      "4\n",
      "<class 'int'>\n"
     ]
    }
   ],
   "source": [
    "a = 4\n",
    "b = type(a);\n",
    "print (a)\n",
    "print(b)"
   ]
  },
  {
   "cell_type": "code",
   "execution_count": 4,
   "id": "570cea9c-87ca-4c13-bf36-720373d925d8",
   "metadata": {},
   "outputs": [
    {
     "name": "stdout",
     "output_type": "stream",
     "text": [
      "True\n",
      "<class 'bool'>\n"
     ]
    }
   ],
   "source": [
    "a = True\n",
    "b = type(a);\n",
    "print (a)\n",
    "print(b)"
   ]
  },
  {
   "cell_type": "code",
   "execution_count": 5,
   "id": "ad7cb1ff-a376-4d83-93a4-aeea76a629d3",
   "metadata": {},
   "outputs": [
    {
     "data": {
      "text/plain": [
       "complex"
      ]
     },
     "execution_count": 5,
     "metadata": {},
     "output_type": "execute_result"
    }
   ],
   "source": [
    "d = 3-2j\n",
    "type(d)"
   ]
  },
  {
   "cell_type": "markdown",
   "id": "373782ab-03e0-465e-bb71-12d8040ee45a",
   "metadata": {},
   "source": [
    "# Variable and its Rule for naming the variable"
   ]
  },
  {
   "cell_type": "code",
   "execution_count": 11,
   "id": "ff6c8aa2-f144-43bf-a152-8a52c38c5d36",
   "metadata": {},
   "outputs": [
    {
     "name": "stdout",
     "output_type": "stream",
     "text": [
      "10\n",
      "16\n",
      "('Apple', 'mango')\n"
     ]
    }
   ],
   "source": [
    "x = 10\n",
    "# 2x = 78  > var can not start from number;\n",
    "_y = 16\n",
    "#x-y = 10 > we can not assign to operator \n",
    "#$r = 19  > cant accept special char other then under score (  _  )\n",
    "#  g y = 90 > cant accept space ;\n",
    "\n",
    "print(x)\n",
    "print(_y)\n",
    "fruit = \"Apple\",\"mango\"\n",
    "# print(Fruit)  varialbe is case sensitive ; \n",
    "\n",
    "print(fruit)\n"
   ]
  },
  {
   "cell_type": "markdown",
   "id": "6a5bfbff-17e8-405b-9901-e9b560210190",
   "metadata": {},
   "source": [
    "# DATA STRUCTURE"
   ]
  },
  {
   "cell_type": "code",
   "execution_count": 14,
   "id": "9eeab9da-07b2-4679-8ca8-6e1c0ac8d6ad",
   "metadata": {},
   "outputs": [
    {
     "name": "stdout",
     "output_type": "stream",
     "text": [
      "('APPLE ', 'BANANA', 'CHERRY')\n",
      "<class 'tuple'>\n"
     ]
    }
   ],
   "source": [
    " X= \"APPLE \" , \"BANANA\", \"CHERRY\"\n",
    "print(X);\n",
    "print(type(X))"
   ]
  },
  {
   "cell_type": "code",
   "execution_count": 15,
   "id": "d9f96f64-a4fa-45f0-bb6c-ea2d503c5ab9",
   "metadata": {},
   "outputs": [
    {
     "name": "stdout",
     "output_type": "stream",
     "text": [
      "['APPLE ', 'BANANA', 'CHERRY']\n",
      "<class 'list'>\n"
     ]
    }
   ],
   "source": [
    " X= [\"APPLE \" , \"BANANA\", \"CHERRY\"]\n",
    "print(X);\n",
    "print(type(X))"
   ]
  },
  {
   "cell_type": "code",
   "execution_count": 17,
   "id": "22531fcc-e49d-453f-8f8c-e8da4a5bd061",
   "metadata": {},
   "outputs": [
    {
     "name": "stdout",
     "output_type": "stream",
     "text": [
      "{'APPLE ', 'CHERRY', 'BANANA'}\n",
      "<class 'set'>\n"
     ]
    }
   ],
   "source": [
    " X= {\"APPLE \" , \"BANANA\", \"CHERRY\"}\n",
    "print(X);\n",
    "print(type(X))"
   ]
  },
  {
   "cell_type": "code",
   "execution_count": 18,
   "id": "ee4a12ec-867f-461c-9181-517cab4f7c7a",
   "metadata": {},
   "outputs": [
    {
     "name": "stdout",
     "output_type": "stream",
     "text": [
      "{'A ': 'B', 'C': 'D'}\n",
      "<class 'dict'>\n"
     ]
    }
   ],
   "source": [
    " X= {\"A \" :\"B\", \"C\" : \"D\"}\n",
    "print(X);\n",
    "print(type(X))"
   ]
  },
  {
   "cell_type": "code",
   "execution_count": 22,
   "id": "aec8355e-da9f-4e08-9dd1-a4201e58537a",
   "metadata": {},
   "outputs": [
    {
     "name": "stdout",
     "output_type": "stream",
     "text": [
      "['APPLE ', 'BANANA', 'CHERRY', 5, 43, 2, 4.4, (6+7j)]\n",
      "<class 'list'>\n"
     ]
    }
   ],
   "source": [
    " sample_list= [\"APPLE \" , \"BANANA\", \"CHERRY\" ,5,43,2,4.4,6+7j]\n",
    "print(sample_list)\n",
    "print(type(sample_list))\n"
   ]
  },
  {
   "cell_type": "markdown",
   "id": "c7dcf755-e378-40a8-87a6-cf0d3de5549c",
   "metadata": {},
   "source": [
    "### LIST \n",
    "##### 1. Allows Heterogenous(allow all type of data type)\n",
    "##### 2. Index start from 0 \n",
    "##### 3. Mutable using index  >> can change by index \n",
    "##### 4.  [ ]"
   ]
  },
  {
   "cell_type": "code",
   "execution_count": 23,
   "id": "067607a9-971a-4de7-a053-90e57ba5ac52",
   "metadata": {},
   "outputs": [
    {
     "data": {
      "text/plain": [
       "5"
      ]
     },
     "execution_count": 23,
     "metadata": {},
     "output_type": "execute_result"
    }
   ],
   "source": [
    "sample_list[3]\n"
   ]
  },
  {
   "cell_type": "code",
   "execution_count": 24,
   "id": "d95b0943-a00c-4094-8403-6f08504617a8",
   "metadata": {},
   "outputs": [
    {
     "data": {
      "text/plain": [
       "'CHERRY'"
      ]
     },
     "execution_count": 24,
     "metadata": {},
     "output_type": "execute_result"
    }
   ],
   "source": [
    "sample_list[2]\n"
   ]
  },
  {
   "cell_type": "code",
   "execution_count": 25,
   "id": "6b82e978-82da-426e-b750-2abdfc7ad662",
   "metadata": {},
   "outputs": [
    {
     "data": {
      "text/plain": [
       "'keshav'"
      ]
     },
     "execution_count": 25,
     "metadata": {},
     "output_type": "execute_result"
    }
   ],
   "source": [
    "sample_list[3]  = \"keshav\"\n",
    "sample_list[3]\n"
   ]
  },
  {
   "cell_type": "code",
   "execution_count": 26,
   "id": "7e975ceb-cced-4919-91ab-ff26b2de05e0",
   "metadata": {},
   "outputs": [
    {
     "data": {
      "text/plain": [
       "['APPLE ', 'BANANA', 'CHERRY', 'keshav', 43, 2, 4.4, (6+7j)]"
      ]
     },
     "execution_count": 26,
     "metadata": {},
     "output_type": "execute_result"
    }
   ],
   "source": [
    "sample_list\n"
   ]
  },
  {
   "cell_type": "markdown",
   "id": "83821f41-ae81-4d41-9c3f-bbffdf400faa",
   "metadata": {},
   "source": [
    "# TUPLE\n",
    "##### 1. Allows Heterogenous(allow all type of data type)\n",
    "##### 2. Index start from 0  and Retrieve using index\n",
    "##### 3. Immutable using index  >> can not change by index \n",
    "##### 4.  ( )"
   ]
  },
  {
   "cell_type": "code",
   "execution_count": 7,
   "id": "cd029242-1866-4c7f-a222-2d694a3149ed",
   "metadata": {},
   "outputs": [
    {
     "name": "stdout",
     "output_type": "stream",
     "text": [
      "(2, 3, 4.5, 'keshav')\n",
      "<class 'tuple'>\n"
     ]
    }
   ],
   "source": [
    "sample_tuple = (2,3,4.5, \"keshav\")\n",
    "print(sample_tuple)\n",
    "print(type(sample_tuple))\n",
    "\n"
   ]
  },
  {
   "cell_type": "code",
   "execution_count": 8,
   "id": "21bf39a6-b953-4640-9cff-e0fba2018198",
   "metadata": {},
   "outputs": [
    {
     "data": {
      "text/plain": [
       "2"
      ]
     },
     "execution_count": 8,
     "metadata": {},
     "output_type": "execute_result"
    }
   ],
   "source": [
    "sample_tuple[0]"
   ]
  },
  {
   "cell_type": "code",
   "execution_count": 46,
   "id": "1c40adac-c4f2-407c-8594-d4e4ca46b53d",
   "metadata": {},
   "outputs": [],
   "source": [
    "# sample_tuple[0] = 3  >>> we can't change by index  >>> immutable;"
   ]
  },
  {
   "cell_type": "code",
   "execution_count": 9,
   "id": "074f9685-2e26-4bb7-b598-50403df7ef1f",
   "metadata": {},
   "outputs": [
    {
     "ename": "TypeError",
     "evalue": "'tuple' object does not support item assignment",
     "output_type": "error",
     "traceback": [
      "\u001b[1;31m---------------------------------------------------------------------------\u001b[0m",
      "\u001b[1;31mTypeError\u001b[0m                                 Traceback (most recent call last)",
      "Cell \u001b[1;32mIn[9], line 1\u001b[0m\n\u001b[1;32m----> 1\u001b[0m sample_tuple[\u001b[38;5;241m0\u001b[39m] \u001b[38;5;241m=\u001b[39m \u001b[38;5;124m\"\u001b[39m\u001b[38;5;124mkesha\u001b[39m\u001b[38;5;124m\"\u001b[39m\n",
      "\u001b[1;31mTypeError\u001b[0m: 'tuple' object does not support item assignment"
     ]
    }
   ],
   "source": [
    "sample_tuple[0] = \"kesha\" "
   ]
  },
  {
   "cell_type": "markdown",
   "id": "c52fe4eb-56b3-49aa-b266-1d20a37e05e7",
   "metadata": {},
   "source": [
    "# SET\n",
    "##### 1. Add Heterogenous(allow all type of data type)\n",
    "##### 2. can't access Index;\n",
    "##### 3. Immutable using index  >> can not change by index but its mutable; \n",
    "##### 4.  ordered first place \"\"\n",
    "##### 5 . does not allow duplicate"
   ]
  },
  {
   "cell_type": "code",
   "execution_count": 47,
   "id": "dcbddd40-d310-4419-91a8-e771024bb0a0",
   "metadata": {},
   "outputs": [
    {
     "name": "stdout",
     "output_type": "stream",
     "text": [
      "{1, 'keshav', 4, 5, 6.6, 'book ', 23}\n",
      "<class 'set'>\n"
     ]
    }
   ],
   "source": [
    "sample_set = {1,23,4,5,6.6,5,\"keshav\", \"book \"}\n",
    "print(sample_set)\n",
    "print(type(sample_set))"
   ]
  },
  {
   "cell_type": "code",
   "execution_count": 48,
   "id": "2e42a34e-1741-498b-83d3-96168a581e63",
   "metadata": {},
   "outputs": [],
   "source": [
    "sample_set.remove(5)"
   ]
  },
  {
   "cell_type": "code",
   "execution_count": 49,
   "id": "89725fc4-ac5b-4a9b-a242-09dac14047bb",
   "metadata": {},
   "outputs": [
    {
     "data": {
      "text/plain": [
       "{1, 23, 4, 6.6, 'book ', 'keshav'}"
      ]
     },
     "execution_count": 49,
     "metadata": {},
     "output_type": "execute_result"
    }
   ],
   "source": [
    "sample_set\n"
   ]
  },
  {
   "cell_type": "code",
   "execution_count": 50,
   "id": "5093fda0-548a-4c76-b04d-6fce2e14151e",
   "metadata": {},
   "outputs": [
    {
     "data": {
      "text/plain": [
       "{1, 23, 4, 5, 6.6, 'book ', 'keshav'}"
      ]
     },
     "execution_count": 50,
     "metadata": {},
     "output_type": "execute_result"
    }
   ],
   "source": [
    "sample_set.add(5)\n",
    "sample_set"
   ]
  },
  {
   "cell_type": "markdown",
   "id": "2197cdc6-2bc4-4851-a9f1-eefeebee797a",
   "metadata": {},
   "source": [
    "# DICTONARY\n",
    "##### 1. dict has key and value pair datastructure\n",
    "##### 2. key is unique & value can be duplicated\n",
    "##### 3. key is Immutable  \n",
    "##### 4.  can retrieve the value using key\n",
    "##### 5.  can change the value using key\n"
   ]
  },
  {
   "cell_type": "code",
   "execution_count": 51,
   "id": "71f8661f-cb2c-44c1-85d8-f3baef875c93",
   "metadata": {},
   "outputs": [
    {
     "data": {
      "text/plain": [
       "{'a': 'alpha', 'b': 'banana', 'c': 'cat', 'd': 'dog'}"
      ]
     },
     "execution_count": 51,
     "metadata": {},
     "output_type": "execute_result"
    }
   ],
   "source": [
    "sample_dict = {\"a\":\"alpha\" , \"b\":\"banana\",\"c\":\"cat\" , \"d\":\"dog\"}\n",
    "sample_dict "
   ]
  },
  {
   "cell_type": "code",
   "execution_count": 52,
   "id": "67265f37-be4c-4217-a80d-cfb0b95869b1",
   "metadata": {},
   "outputs": [
    {
     "data": {
      "text/plain": [
       "dict"
      ]
     },
     "execution_count": 52,
     "metadata": {},
     "output_type": "execute_result"
    }
   ],
   "source": [
    "type(sample_dict )"
   ]
  },
  {
   "cell_type": "code",
   "execution_count": 55,
   "id": "5e1663fa-538a-4ee0-b2ed-f9812dbcaa0b",
   "metadata": {},
   "outputs": [
    {
     "data": {
      "text/plain": [
       "'alpha'"
      ]
     },
     "execution_count": 55,
     "metadata": {},
     "output_type": "execute_result"
    }
   ],
   "source": [
    "sample_dict[\"a\"]"
   ]
  },
  {
   "cell_type": "code",
   "execution_count": 3,
   "id": "314fc1b2-0dcc-4e57-ad4a-0216eef1e037",
   "metadata": {
    "scrolled": true
   },
   "outputs": [
    {
     "ename": "NameError",
     "evalue": "name 'sample_dict' is not defined",
     "output_type": "error",
     "traceback": [
      "\u001b[1;31m---------------------------------------------------------------------------\u001b[0m",
      "\u001b[1;31mNameError\u001b[0m                                 Traceback (most recent call last)",
      "Cell \u001b[1;32mIn[3], line 1\u001b[0m\n\u001b[1;32m----> 1\u001b[0m sample_dict \u001b[38;5;241m.\u001b[39mreverse()\n",
      "\u001b[1;31mNameError\u001b[0m: name 'sample_dict' is not defined"
     ]
    }
   ],
   "source": [
    "sample_dict .reverse() # >>>>> reverse can not work "
   ]
  }
 ],
 "metadata": {
  "kernelspec": {
   "display_name": "Python 3 (ipykernel)",
   "language": "python",
   "name": "python3"
  },
  "language_info": {
   "codemirror_mode": {
    "name": "ipython",
    "version": 3
   },
   "file_extension": ".py",
   "mimetype": "text/x-python",
   "name": "python",
   "nbconvert_exporter": "python",
   "pygments_lexer": "ipython3",
   "version": "3.11.7"
  }
 },
 "nbformat": 4,
 "nbformat_minor": 5
}
