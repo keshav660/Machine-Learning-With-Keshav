{
 "cells": [
  {
   "cell_type": "markdown",
   "id": "e2933c67-b42a-4725-bedf-1eb6140c19ed",
   "metadata": {},
   "source": [
    "### types Of Analytics\n",
    "#### 1. Descriptive     ->> What happend in past\n",
    "#### 2. Dianostic       ->> why did it happend\n",
    "#### 3. Predictive      ->>  future\n",
    "#### 4. Prescriptive    ->> solution\n",
    "\n"
   ]
  },
  {
   "cell_type": "markdown",
   "id": "00ad52ee-8479-4952-97b7-d122c7bb7256",
   "metadata": {},
   "source": [
    "# Numpy : Package for Multidimensional array"
   ]
  },
  {
   "cell_type": "code",
   "execution_count": 209,
   "id": "26a8fff2-1ce6-4676-8d90-9263ffca28c3",
   "metadata": {},
   "outputs": [],
   "source": [
    "import numpy as np "
   ]
  },
  {
   "cell_type": "code",
   "execution_count": null,
   "id": "1c060a65-f146-4fbf-8872-e1937dacc8c1",
   "metadata": {},
   "outputs": [],
   "source": []
  },
  {
   "cell_type": "code",
   "execution_count": 211,
   "id": "8e3db1b7-1059-419c-9595-ec5111fe3861",
   "metadata": {},
   "outputs": [
    {
     "ename": "NameError",
     "evalue": "name 'samale_matrix' is not defined",
     "output_type": "error",
     "traceback": [
      "\u001b[1;31m---------------------------------------------------------------------------\u001b[0m",
      "\u001b[1;31mNameError\u001b[0m                                 Traceback (most recent call last)",
      "Cell \u001b[1;32mIn[211], line 3\u001b[0m\n\u001b[0;32m      1\u001b[0m list_o_lists\u001b[38;5;241m=\u001b[39m [[\u001b[38;5;241m1\u001b[39m,\u001b[38;5;241m2\u001b[39m,\u001b[38;5;241m3\u001b[39m],[\u001b[38;5;241m4\u001b[39m,\u001b[38;5;241m5\u001b[39m,\u001b[38;5;241m6\u001b[39m],[\u001b[38;5;241m7\u001b[39m,\u001b[38;5;241m8\u001b[39m,\u001b[38;5;241m9\u001b[39m]]\n\u001b[0;32m      2\u001b[0m sample_matrix \u001b[38;5;241m=\u001b[39m np\u001b[38;5;241m.\u001b[39marray(list_of_lists)\n\u001b[1;32m----> 3\u001b[0m samale_matrix\n",
      "\u001b[1;31mNameError\u001b[0m: name 'samale_matrix' is not defined"
     ]
    }
   ],
   "source": [
    "list_o_lists= [[1,2,3],[4,5,6],[7,8,9]]\n",
    "sample_matrix = np.array(list_of_lists)\n",
    "samale_matrix"
   ]
  },
  {
   "cell_type": "code",
   "execution_count": 172,
   "id": "12118274-d279-496b-9b33-0009d8adc7b1",
   "metadata": {},
   "outputs": [
    {
     "data": {
      "text/plain": [
       "array([ 5,  6,  7,  8,  9, 10, 11, 12, 13, 14, 15, 16, 17, 18, 19])"
      ]
     },
     "execution_count": 172,
     "metadata": {},
     "output_type": "execute_result"
    }
   ],
   "source": [
    "np.arange(5,20)"
   ]
  },
  {
   "cell_type": "code",
   "execution_count": 173,
   "id": "1de84ec7-44ed-45ae-b74d-69d6fca4a141",
   "metadata": {},
   "outputs": [
    {
     "data": {
      "text/plain": [
       "array([ 0,  1,  2,  3,  4,  5,  6,  7,  8,  9, 10, 11, 12, 13, 14, 15, 16,\n",
       "       17])"
      ]
     },
     "execution_count": 173,
     "metadata": {},
     "output_type": "execute_result"
    }
   ],
   "source": [
    "np.arange(18)"
   ]
  },
  {
   "cell_type": "code",
   "execution_count": 174,
   "id": "6ca70f71-1f46-43e4-82e9-7f31ad610ed1",
   "metadata": {},
   "outputs": [
    {
     "data": {
      "text/plain": [
       "array([0., 0., 0., 0., 0., 0., 0., 0., 0., 0.])"
      ]
     },
     "execution_count": 174,
     "metadata": {},
     "output_type": "execute_result"
    }
   ],
   "source": [
    "np.zeros(10)"
   ]
  },
  {
   "cell_type": "code",
   "execution_count": 175,
   "id": "1c61a742-a5c1-4e85-908f-940c05a94eb1",
   "metadata": {},
   "outputs": [
    {
     "data": {
      "text/plain": [
       "array([ 1,  6, 11, 16, 21, 26, 31, 36, 41])"
      ]
     },
     "execution_count": 175,
     "metadata": {},
     "output_type": "execute_result"
    }
   ],
   "source": [
    "np.arange(1,46,5)"
   ]
  },
  {
   "cell_type": "code",
   "execution_count": 176,
   "id": "6669471f-38a8-4298-b74b-e8565050ada1",
   "metadata": {},
   "outputs": [
    {
     "data": {
      "text/plain": [
       "array([0, 0, 0, 0, 0, 0, 0, 0, 0, 0])"
      ]
     },
     "execution_count": 176,
     "metadata": {},
     "output_type": "execute_result"
    }
   ],
   "source": [
    "np.zeros(10 ,int)"
   ]
  },
  {
   "cell_type": "code",
   "execution_count": 177,
   "id": "4e0ccd96-7c11-404b-a342-393f740e5a02",
   "metadata": {},
   "outputs": [
    {
     "data": {
      "text/plain": [
       "array([1., 1., 1., 1., 1.])"
      ]
     },
     "execution_count": 177,
     "metadata": {},
     "output_type": "execute_result"
    }
   ],
   "source": [
    "np.ones(5)"
   ]
  },
  {
   "cell_type": "code",
   "execution_count": 178,
   "id": "632f680d-7735-48b3-a7ff-b3f2622d2b99",
   "metadata": {},
   "outputs": [
    {
     "data": {
      "text/plain": [
       "array([1, 1, 1, 1, 1])"
      ]
     },
     "execution_count": 178,
     "metadata": {},
     "output_type": "execute_result"
    }
   ],
   "source": [
    "np.ones(5,int)"
   ]
  },
  {
   "cell_type": "code",
   "execution_count": 179,
   "id": "c83a5f62-3a4e-421e-9ccd-352f7c982046",
   "metadata": {},
   "outputs": [
    {
     "data": {
      "text/plain": [
       "array([[0, 0, 0, 0, 0],\n",
       "       [0, 0, 0, 0, 0]])"
      ]
     },
     "execution_count": 179,
     "metadata": {},
     "output_type": "execute_result"
    }
   ],
   "source": [
    "np.zeros((2,5) ,int) "
   ]
  },
  {
   "cell_type": "markdown",
   "id": "c626e08f-fd8c-4643-b9f7-5caf9bc140cc",
   "metadata": {},
   "source": [
    "#### Create an array of Zero with 2  rows and 10 columns"
   ]
  },
  {
   "cell_type": "code",
   "execution_count": 180,
   "id": "26c0fa72-5861-43aa-ac82-9f9189d786ca",
   "metadata": {
    "scrolled": true
   },
   "outputs": [
    {
     "data": {
      "text/plain": [
       "array([[0, 0, 0, 0, 0, 0, 0, 0, 0, 0],\n",
       "       [0, 0, 0, 0, 0, 0, 0, 0, 0, 0]])"
      ]
     },
     "execution_count": 180,
     "metadata": {},
     "output_type": "execute_result"
    }
   ],
   "source": [
    "np.zeros((2,10) ,int) "
   ]
  },
  {
   "cell_type": "code",
   "execution_count": 181,
   "id": "581a52c4-f529-4fcd-ad80-f3fa0edb3458",
   "metadata": {},
   "outputs": [
    {
     "data": {
      "text/plain": [
       "array([0.  , 0.25, 0.5 , 0.75, 1.  ])"
      ]
     },
     "execution_count": 181,
     "metadata": {},
     "output_type": "execute_result"
    }
   ],
   "source": [
    "np.linspace(0,1,5)  #>>> linearly space >> equaly distribute  0 to 1  for 5 time "
   ]
  },
  {
   "cell_type": "code",
   "execution_count": 182,
   "id": "2a6f8118-2ffe-4c4f-8dba-cc8f7c7a4ccd",
   "metadata": {},
   "outputs": [
    {
     "data": {
      "text/plain": [
       "array([ 0.        ,  2.85714286,  5.71428571,  8.57142857, 11.42857143,\n",
       "       14.28571429, 17.14285714, 20.        ])"
      ]
     },
     "execution_count": 182,
     "metadata": {},
     "output_type": "execute_result"
    }
   ],
   "source": [
    "np.linspace(0,20,8)   #>>> linearly space >> equaly distribute  0 to 20 for 8 time"
   ]
  },
  {
   "cell_type": "code",
   "execution_count": 183,
   "id": "a43fc561-7dbe-479b-bd38-d6383edbcce8",
   "metadata": {},
   "outputs": [
    {
     "data": {
      "text/plain": [
       "array([[1., 0., 0.],\n",
       "       [0., 1., 0.],\n",
       "       [0., 0., 1.]])"
      ]
     },
     "execution_count": 183,
     "metadata": {},
     "output_type": "execute_result"
    }
   ],
   "source": [
    "np.eye(3)   #>> generate identity  matrix [I]3*3 , digonal matrix"
   ]
  },
  {
   "cell_type": "code",
   "execution_count": 184,
   "id": "e41c0152-1967-464c-bd32-5344e338cac4",
   "metadata": {},
   "outputs": [
    {
     "data": {
      "text/plain": [
       "array([[0.73634391, 0.02628073],\n",
       "       [0.81732989, 0.14274637],\n",
       "       [0.56765733, 0.32997422]])"
      ]
     },
     "execution_count": 184,
     "metadata": {},
     "output_type": "execute_result"
    }
   ],
   "source": [
    "np.random.rand(3,2) ##  3 row 2 coulmn (uniform distribution >> no can be in 0 to 1)"
   ]
  },
  {
   "cell_type": "code",
   "execution_count": 185,
   "id": "6c8a879f-76cc-4eff-8e89-5f150ec0a6f0",
   "metadata": {},
   "outputs": [
    {
     "data": {
      "text/plain": [
       "array([[ 0.38054123, -1.40920494],\n",
       "       [-0.36527257, -0.51213038],\n",
       "       [ 0.51581905,  0.38090007]])"
      ]
     },
     "execution_count": 185,
     "metadata": {},
     "output_type": "execute_result"
    }
   ],
   "source": [
    "np.random.randn(3,2)   ## randn use for negative value "
   ]
  },
  {
   "cell_type": "code",
   "execution_count": 186,
   "id": "db36fc05-3847-432d-8886-e673ef77f80b",
   "metadata": {},
   "outputs": [
    {
     "data": {
      "text/plain": [
       "148"
      ]
     },
     "execution_count": 186,
     "metadata": {},
     "output_type": "execute_result"
    }
   ],
   "source": [
    "np.random.randint(33,200)  ## generate any random number bw 33 to 199"
   ]
  },
  {
   "cell_type": "code",
   "execution_count": 187,
   "id": "4bdbd6af-00d6-4481-8643-defd7b51387b",
   "metadata": {},
   "outputs": [
    {
     "data": {
      "text/plain": [
       "array([58, 83, 81, 54, 24, 28, 24, 94, 99, 43, 19, 46, 15, 55, 92, 73, 18,\n",
       "       72, 64, 79, 10, 61, 50, 85, 50,  9,  0, 32, 43, 13, 97,  6, 89, 91,\n",
       "       29, 75, 77, 20, 88, 69, 23, 65, 98, 18, 53, 89, 27, 94, 28, 35, 41,\n",
       "       80, 73, 94,  2, 82,  0, 98, 41, 95, 66,  5, 54, 56, 56,  2, 88,  6,\n",
       "       36,  2,  6, 94, 66, 94, 13,  5, 53, 24, 21, 38, 43, 48, 41, 36, 69,\n",
       "       70, 89, 29, 21, 82, 31, 60, 20, 38, 36, 26,  1, 73, 85, 39])"
      ]
     },
     "execution_count": 187,
     "metadata": {},
     "output_type": "execute_result"
    }
   ],
   "source": [
    "np.random.randint(0,100 , 100)  ##>> format (start , end ,  total output)"
   ]
  },
  {
   "cell_type": "code",
   "execution_count": 188,
   "id": "b0a46d79-4621-4e65-859d-313fbe08c487",
   "metadata": {},
   "outputs": [
    {
     "data": {
      "text/plain": [
       "array([ 0,  1,  2,  3,  4,  5,  6,  7,  8,  9, 10, 11, 12, 13, 14, 15, 16,\n",
       "       17, 18, 19, 20, 21, 22, 23, 24, 25, 26, 27, 28, 29])"
      ]
     },
     "execution_count": 188,
     "metadata": {},
     "output_type": "execute_result"
    }
   ],
   "source": [
    "sample_array = np.arange(30)\n",
    "sample_array"
   ]
  },
  {
   "cell_type": "code",
   "execution_count": 189,
   "id": "f7a317e7-31c6-4c18-8ab8-ffa22e94a838",
   "metadata": {},
   "outputs": [
    {
     "data": {
      "text/plain": [
       "array([[ 0,  1,  2,  3,  4],\n",
       "       [ 5,  6,  7,  8,  9],\n",
       "       [10, 11, 12, 13, 14],\n",
       "       [15, 16, 17, 18, 19],\n",
       "       [20, 21, 22, 23, 24],\n",
       "       [25, 26, 27, 28, 29]])"
      ]
     },
     "execution_count": 189,
     "metadata": {},
     "output_type": "execute_result"
    }
   ],
   "source": [
    "sample_array.reshape(6, 5) ##>> format (row , coulmn)"
   ]
  },
  {
   "cell_type": "code",
   "execution_count": 190,
   "id": "e89896e9-9fa1-446b-89ec-a9be2a628764",
   "metadata": {},
   "outputs": [
    {
     "data": {
      "text/plain": [
       "array([17, 43, 24, 37, 14,  7, 27, 48,  2, 38, 18, 79, 36, 37, 65, 37, 38,\n",
       "       84, 62, 76,  8, 63, 36, 67,  6, 65, 63, 70, 44, 73, 47, 80, 27, 60,\n",
       "       48, 36,  8, 70, 21, 13, 47, 86, 11,  7,  8, 68, 24, 84, 60, 46])"
      ]
     },
     "execution_count": 190,
     "metadata": {},
     "output_type": "execute_result"
    }
   ],
   "source": [
    "rand_array = np.random.randint(1,89,50)\n",
    "rand_array"
   ]
  },
  {
   "cell_type": "code",
   "execution_count": 191,
   "id": "a768bd4c-0abf-4cb7-8d75-8559ff9db3d0",
   "metadata": {},
   "outputs": [
    {
     "data": {
      "text/plain": [
       "2"
      ]
     },
     "execution_count": 191,
     "metadata": {},
     "output_type": "execute_result"
    }
   ],
   "source": [
    "rand_array.min()"
   ]
  },
  {
   "cell_type": "code",
   "execution_count": 192,
   "id": "5dc50d52-56a5-498b-b0e7-1c18022abab6",
   "metadata": {},
   "outputs": [
    {
     "data": {
      "text/plain": [
       "86"
      ]
     },
     "execution_count": 192,
     "metadata": {},
     "output_type": "execute_result"
    }
   ],
   "source": [
    "rand_array.max()\n"
   ]
  },
  {
   "cell_type": "code",
   "execution_count": 193,
   "id": "2615a556-8da9-4cfc-a829-91a1f6faa979",
   "metadata": {},
   "outputs": [
    {
     "data": {
      "text/plain": [
       "8"
      ]
     },
     "execution_count": 193,
     "metadata": {},
     "output_type": "execute_result"
    }
   ],
   "source": [
    "rand_array.argmin()  ##>>>> \n"
   ]
  },
  {
   "cell_type": "code",
   "execution_count": 194,
   "id": "1befd6dc-545d-48f1-94f8-5c3fb920c6d7",
   "metadata": {},
   "outputs": [
    {
     "data": {
      "text/plain": [
       "array([ 0,  1,  2,  3,  4,  5,  6,  7,  8,  9, 10, 11, 12, 13, 14, 15, 16,\n",
       "       17, 18, 19, 20, 21, 22, 23, 24, 25, 26, 27, 28, 29])"
      ]
     },
     "execution_count": 194,
     "metadata": {},
     "output_type": "execute_result"
    }
   ],
   "source": [
    "sample_array = np.arange(30)\n",
    "sample_array\n"
   ]
  },
  {
   "cell_type": "code",
   "execution_count": 195,
   "id": "01875309-c101-4a67-9927-f6198322675c",
   "metadata": {},
   "outputs": [
    {
     "data": {
      "text/plain": [
       "dtype('int32')"
      ]
     },
     "execution_count": 195,
     "metadata": {},
     "output_type": "execute_result"
    }
   ],
   "source": [
    "sample_array.dtype  ## tell about datatype"
   ]
  },
  {
   "cell_type": "code",
   "execution_count": 196,
   "id": "628d79b8-3075-4343-ad34-724c812efc4b",
   "metadata": {},
   "outputs": [
    {
     "data": {
      "text/plain": [
       "array([[1., 0., 0., 0., 0.],\n",
       "       [0., 1., 0., 0., 0.],\n",
       "       [0., 0., 1., 0., 0.],\n",
       "       [0., 0., 0., 1., 0.],\n",
       "       [0., 0., 0., 0., 1.]])"
      ]
     },
     "execution_count": 196,
     "metadata": {},
     "output_type": "execute_result"
    }
   ],
   "source": [
    "a = np.eye(5)   #>>> identity matrix\n",
    "a"
   ]
  },
  {
   "cell_type": "code",
   "execution_count": 197,
   "id": "ded10748-fe36-493f-aad5-044f74b95f65",
   "metadata": {},
   "outputs": [
    {
     "data": {
      "text/plain": [
       "array([[1., 0., 0., 0., 0.],\n",
       "       [0., 1., 0., 0., 0.],\n",
       "       [0., 0., 1., 0., 0.],\n",
       "       [0., 0., 0., 1., 0.],\n",
       "       [0., 0., 0., 0., 1.]])"
      ]
     },
     "execution_count": 197,
     "metadata": {},
     "output_type": "execute_result"
    }
   ],
   "source": [
    "a.T  #>>> transpose T(I) =I"
   ]
  },
  {
   "cell_type": "code",
   "execution_count": 198,
   "id": "f4fe4151-89c8-4175-a1bd-3e1f044c63a0",
   "metadata": {},
   "outputs": [
    {
     "data": {
      "text/plain": [
       "array([[0.35088   , 0.02244986, 0.25652996],\n",
       "       [0.91962395, 0.4857533 , 0.8614577 ]])"
      ]
     },
     "execution_count": 198,
     "metadata": {},
     "output_type": "execute_result"
    }
   ],
   "source": [
    "a  = np.random.rand(2,3)\n",
    "a   ##>>> uniform distribution >  means range of no is 0 to 1 "
   ]
  },
  {
   "cell_type": "code",
   "execution_count": 199,
   "id": "92d421d1-dfa5-4aba-939b-10eea6dc3aed",
   "metadata": {},
   "outputs": [
    {
     "data": {
      "text/plain": [
       "array([[0.35088   , 0.91962395],\n",
       "       [0.02244986, 0.4857533 ],\n",
       "       [0.25652996, 0.8614577 ]])"
      ]
     },
     "execution_count": 199,
     "metadata": {},
     "output_type": "execute_result"
    }
   ],
   "source": [
    "a.T"
   ]
  },
  {
   "cell_type": "code",
   "execution_count": 200,
   "id": "7a2db366-d443-4db9-84be-9150485dd63d",
   "metadata": {},
   "outputs": [
    {
     "name": "stdout",
     "output_type": "stream",
     "text": [
      "[10 11 12 13 14 15 16 17 18 19 20]\n"
     ]
    },
    {
     "data": {
      "text/plain": [
       "numpy.ndarray"
      ]
     },
     "execution_count": 200,
     "metadata": {},
     "output_type": "execute_result"
    }
   ],
   "source": [
    "sample_array = np.arange(10,21)\n",
    "print(sample_array)\n",
    "type(sample_array)"
   ]
  },
  {
   "cell_type": "code",
   "execution_count": 201,
   "id": "15723785-175d-416e-9047-3d016dfc9682",
   "metadata": {},
   "outputs": [
    {
     "data": {
      "text/plain": [
       "13"
      ]
     },
     "execution_count": 201,
     "metadata": {},
     "output_type": "execute_result"
    }
   ],
   "source": [
    "sample_array[3] ##> retrive by index "
   ]
  },
  {
   "cell_type": "code",
   "execution_count": 202,
   "id": "e959199b-01ed-4bc5-b3cd-2b3a79466826",
   "metadata": {},
   "outputs": [
    {
     "data": {
      "text/plain": [
       "array([13, 14, 15, 16])"
      ]
     },
     "execution_count": 202,
     "metadata": {},
     "output_type": "execute_result"
    }
   ],
   "source": [
    "sample_array[3:7]  ##>> index will not consider "
   ]
  },
  {
   "cell_type": "code",
   "execution_count": 203,
   "id": "52cbb3eb-786d-413b-86bf-48880e4f10a4",
   "metadata": {},
   "outputs": [
    {
     "data": {
      "text/plain": [
       "array([ 10, 100, 100, 100,  14,  15,  16,  17,  18,  19,  20])"
      ]
     },
     "execution_count": 203,
     "metadata": {},
     "output_type": "execute_result"
    }
   ],
   "source": [
    "sample_array[1:4] = 100\n",
    "sample_array"
   ]
  },
  {
   "cell_type": "code",
   "execution_count": 204,
   "id": "911ddb65-0275-4eb1-8824-4d479ce833e9",
   "metadata": {},
   "outputs": [
    {
     "data": {
      "text/plain": [
       "array([ 10, 100, 100, 100,  14,  15,  16])"
      ]
     },
     "execution_count": 204,
     "metadata": {},
     "output_type": "execute_result"
    }
   ],
   "source": [
    "sample_array[0:7]"
   ]
  },
  {
   "cell_type": "code",
   "execution_count": 205,
   "id": "b6a3ed40-f748-499b-9597-83664060a171",
   "metadata": {},
   "outputs": [
    {
     "data": {
      "text/plain": [
       "array([ 10, 100, 100, 100])"
      ]
     },
     "execution_count": 205,
     "metadata": {},
     "output_type": "execute_result"
    }
   ],
   "source": [
    "subset_sample_array = sample_array[0:4]\n",
    "subset_sample_array"
   ]
  },
  {
   "cell_type": "code",
   "execution_count": 206,
   "id": "eccee016-fda3-485a-a14e-3332218aad5d",
   "metadata": {},
   "outputs": [
    {
     "data": {
      "text/plain": [
       "array([ 10, 100, 100, 100])"
      ]
     },
     "execution_count": 206,
     "metadata": {},
     "output_type": "execute_result"
    }
   ],
   "source": [
    "subset_sample_array[1:2]  = 100\n",
    "subset_sample_array"
   ]
  },
  {
   "cell_type": "code",
   "execution_count": 207,
   "id": "62e815ec-a532-47f1-9103-2298c06382f0",
   "metadata": {},
   "outputs": [
    {
     "data": {
      "text/plain": [
       "array([100, 100, 100, 100])"
      ]
     },
     "execution_count": 207,
     "metadata": {},
     "output_type": "execute_result"
    }
   ],
   "source": [
    "subset_sample_array[:]  = 100\n",
    "subset_sample_array  ###>> default start and end will be there >>"
   ]
  },
  {
   "cell_type": "code",
   "execution_count": null,
   "id": "82323e61-9c0c-4b37-b4f4-f32a3f94fc4f",
   "metadata": {},
   "outputs": [],
   "source": [
    "\n"
   ]
  },
  {
   "cell_type": "markdown",
   "id": "d7f1b129-d12e-4007-8fc9-cc6a312ca480",
   "metadata": {},
   "source": [
    "# Two - Dimensional Array"
   ]
  },
  {
   "cell_type": "code",
   "execution_count": 125,
   "id": "f783f3a5-2916-48ad-a744-2b6de338961c",
   "metadata": {},
   "outputs": [],
   "source": [
    "import numpy as np"
   ]
  },
  {
   "cell_type": "code",
   "execution_count": 133,
   "id": "3494fef8-9ad2-40b2-a38f-f6af9af91b47",
   "metadata": {},
   "outputs": [
    {
     "data": {
      "text/plain": [
       "array([[50, 20,  1, 23],\n",
       "       [54, 23,  2, 22],\n",
       "       [ 3, 30, 23,  7]])"
      ]
     },
     "execution_count": 133,
     "metadata": {},
     "output_type": "execute_result"
    }
   ],
   "source": [
    "sample_matrix = np.array([[50,20,1,23],[54,23,2,22],[3,30,23,7]])\n",
    "sample_matrix"
   ]
  },
  {
   "cell_type": "code",
   "execution_count": 134,
   "id": "31c61dc3-fefa-4afd-8eab-7f426f4ab0f2",
   "metadata": {},
   "outputs": [
    {
     "data": {
      "text/plain": [
       "7"
      ]
     },
     "execution_count": 134,
     "metadata": {},
     "output_type": "execute_result"
    }
   ],
   "source": [
    "sample_matrix[2][3]  ##>>> means find the element in row[2] coulmn[3] = that is 7"
   ]
  },
  {
   "cell_type": "code",
   "execution_count": 135,
   "id": "15735236-0055-4f9a-ba89-7bf9d85d5002",
   "metadata": {},
   "outputs": [
    {
     "data": {
      "text/plain": [
       "array([ 3, 30, 23,  7])"
      ]
     },
     "execution_count": 135,
     "metadata": {},
     "output_type": "execute_result"
    }
   ],
   "source": [
    "sample_matrix[2,:]   ## >>2nd row and 2coulam full\n"
   ]
  },
  {
   "cell_type": "code",
   "execution_count": 136,
   "id": "71d14c71-46e6-4163-9061-d7a19bf399ca",
   "metadata": {},
   "outputs": [
    {
     "data": {
      "text/plain": [
       "array([ 3, 30, 23,  7])"
      ]
     },
     "execution_count": 136,
     "metadata": {},
     "output_type": "execute_result"
    }
   ],
   "source": [
    "sample_matrix[2] ## same ->> 2nd row and 2coulam full"
   ]
  },
  {
   "cell_type": "code",
   "execution_count": 138,
   "id": "e2e55e0f-fb49-4a9b-9d8c-9f3120f74483",
   "metadata": {},
   "outputs": [
    {
     "data": {
      "text/plain": [
       "array([[23,  1],\n",
       "       [22,  2],\n",
       "       [ 7, 23]])"
      ]
     },
     "execution_count": 138,
     "metadata": {},
     "output_type": "execute_result"
    }
   ],
   "source": [
    "sample_matrix[:,(3,2)]  ##>> : sense "
   ]
  },
  {
   "cell_type": "code",
   "execution_count": 147,
   "id": "c6fc10ff-bcac-4e4f-83bc-950f8af6a0df",
   "metadata": {},
   "outputs": [
    {
     "data": {
      "text/plain": [
       "array([1, 2])"
      ]
     },
     "execution_count": 147,
     "metadata": {},
     "output_type": "execute_result"
    }
   ],
   "source": [
    "sample_matrix[(0,1),(2,2)]"
   ]
  },
  {
   "cell_type": "code",
   "execution_count": 148,
   "id": "af39d7b1-647f-498f-a61a-aa8eaa8afaaf",
   "metadata": {},
   "outputs": [
    {
     "data": {
      "text/plain": [
       "array([ 1,  2,  3,  4,  5,  6,  7,  8,  9, 10, 11, 12, 13, 14, 15, 16, 17,\n",
       "       18, 19])"
      ]
     },
     "execution_count": 148,
     "metadata": {},
     "output_type": "execute_result"
    }
   ],
   "source": [
    "sample_array  = np.arange(1,20)\n",
    "sample_array"
   ]
  },
  {
   "cell_type": "code",
   "execution_count": 149,
   "id": "20d87f80-c898-4688-8846-6b581fe5ca94",
   "metadata": {},
   "outputs": [
    {
     "data": {
      "text/plain": [
       "array([ 2,  4,  6,  8, 10, 12, 14, 16, 18, 20, 22, 24, 26, 28, 30, 32, 34,\n",
       "       36, 38])"
      ]
     },
     "execution_count": 149,
     "metadata": {},
     "output_type": "execute_result"
    }
   ],
   "source": [
    "sample_array +sample_array "
   ]
  },
  {
   "cell_type": "code",
   "execution_count": 150,
   "id": "0e890315-bd1f-4b9c-b59b-caca301a7b3f",
   "metadata": {},
   "outputs": [
    {
     "data": {
      "text/plain": [
       "array([2.71828183e+00, 7.38905610e+00, 2.00855369e+01, 5.45981500e+01,\n",
       "       1.48413159e+02, 4.03428793e+02, 1.09663316e+03, 2.98095799e+03,\n",
       "       8.10308393e+03, 2.20264658e+04, 5.98741417e+04, 1.62754791e+05,\n",
       "       4.42413392e+05, 1.20260428e+06, 3.26901737e+06, 8.88611052e+06,\n",
       "       2.41549528e+07, 6.56599691e+07, 1.78482301e+08])"
      ]
     },
     "execution_count": 150,
     "metadata": {},
     "output_type": "execute_result"
    }
   ],
   "source": [
    "np.exp(sample_array)"
   ]
  },
  {
   "cell_type": "code",
   "execution_count": 151,
   "id": "d9f5fab5-357a-40da-8c23-c57a1a85b1be",
   "metadata": {},
   "outputs": [
    {
     "data": {
      "text/plain": [
       "array([1.        , 1.41421356, 1.73205081, 2.        , 2.23606798,\n",
       "       2.44948974, 2.64575131, 2.82842712, 3.        , 3.16227766,\n",
       "       3.31662479, 3.46410162, 3.60555128, 3.74165739, 3.87298335,\n",
       "       4.        , 4.12310563, 4.24264069, 4.35889894])"
      ]
     },
     "execution_count": 151,
     "metadata": {},
     "output_type": "execute_result"
    }
   ],
   "source": [
    "np.sqrt(sample_array)"
   ]
  },
  {
   "cell_type": "code",
   "execution_count": 152,
   "id": "7934f9d0-2ee1-437d-9031-8c00ced6d28f",
   "metadata": {},
   "outputs": [
    {
     "data": {
      "text/plain": [
       "array([0.        , 0.69314718, 1.09861229, 1.38629436, 1.60943791,\n",
       "       1.79175947, 1.94591015, 2.07944154, 2.19722458, 2.30258509,\n",
       "       2.39789527, 2.48490665, 2.56494936, 2.63905733, 2.7080502 ,\n",
       "       2.77258872, 2.83321334, 2.89037176, 2.94443898])"
      ]
     },
     "execution_count": 152,
     "metadata": {},
     "output_type": "execute_result"
    }
   ],
   "source": [
    "np.log(sample_array)"
   ]
  },
  {
   "cell_type": "code",
   "execution_count": 153,
   "id": "f4cfeb88-4ed0-4770-b5e7-9c013254c161",
   "metadata": {},
   "outputs": [
    {
     "data": {
      "text/plain": [
       "19"
      ]
     },
     "execution_count": 153,
     "metadata": {},
     "output_type": "execute_result"
    }
   ],
   "source": [
    "np.max(sample_array)"
   ]
  },
  {
   "cell_type": "code",
   "execution_count": 154,
   "id": "11c92fce-27db-470c-9636-2fd82f0a6702",
   "metadata": {},
   "outputs": [
    {
     "data": {
      "text/plain": [
       "1"
      ]
     },
     "execution_count": 154,
     "metadata": {},
     "output_type": "execute_result"
    }
   ],
   "source": [
    "np.min(sample_array)"
   ]
  },
  {
   "cell_type": "code",
   "execution_count": 155,
   "id": "7b535395-eb21-4b9d-83f9-b61932764ce1",
   "metadata": {},
   "outputs": [
    {
     "data": {
      "text/plain": [
       "18"
      ]
     },
     "execution_count": 155,
     "metadata": {},
     "output_type": "execute_result"
    }
   ],
   "source": [
    "np.argmax(sample_array)"
   ]
  },
  {
   "cell_type": "code",
   "execution_count": 156,
   "id": "0b755b36-bf13-4c64-a415-1b2e73e61dac",
   "metadata": {},
   "outputs": [
    {
     "data": {
      "text/plain": [
       "0"
      ]
     },
     "execution_count": 156,
     "metadata": {},
     "output_type": "execute_result"
    }
   ],
   "source": [
    "np.argmin(sample_array)"
   ]
  },
  {
   "cell_type": "code",
   "execution_count": 157,
   "id": "2225a165-eb69-4dbd-a1fd-efa3eae9e179",
   "metadata": {},
   "outputs": [
    {
     "data": {
      "text/plain": [
       "array([  1,   4,   9,  16,  25,  36,  49,  64,  81, 100, 121, 144, 169,\n",
       "       196, 225, 256, 289, 324, 361])"
      ]
     },
     "execution_count": 157,
     "metadata": {},
     "output_type": "execute_result"
    }
   ],
   "source": [
    "np.square(sample_array)"
   ]
  },
  {
   "cell_type": "code",
   "execution_count": 158,
   "id": "3f9c10e8-8720-4d33-a91c-6e8fbb29f6da",
   "metadata": {},
   "outputs": [
    {
     "data": {
      "text/plain": [
       "5.477225575051661"
      ]
     },
     "execution_count": 158,
     "metadata": {},
     "output_type": "execute_result"
    }
   ],
   "source": [
    "np.std(sample_array)  #>>> standerd eviation"
   ]
  },
  {
   "cell_type": "code",
   "execution_count": 159,
   "id": "a8c1885b-c52f-43e4-a748-b3eaf647785e",
   "metadata": {},
   "outputs": [
    {
     "data": {
      "text/plain": [
       "30.0"
      ]
     },
     "execution_count": 159,
     "metadata": {},
     "output_type": "execute_result"
    }
   ],
   "source": [
    "np.var(sample_array)  #>>>> varience"
   ]
  },
  {
   "cell_type": "code",
   "execution_count": 160,
   "id": "7bd80c28-006b-4914-b76e-f3531dda15a3",
   "metadata": {},
   "outputs": [
    {
     "data": {
      "text/plain": [
       "10.0"
      ]
     },
     "execution_count": 160,
     "metadata": {},
     "output_type": "execute_result"
    }
   ],
   "source": [
    "np.mean(sample_array)   #>>> mean (madhya)\n"
   ]
  },
  {
   "cell_type": "code",
   "execution_count": 161,
   "id": "1875bedd-3dd9-4007-a75a-70483688a527",
   "metadata": {},
   "outputs": [
    {
     "data": {
      "text/plain": [
       "array([[-1.69793288, -0.98482883, -0.37907722, -1.63080774],\n",
       "       [ 0.51759656,  1.34293625,  0.31414643,  0.97356725],\n",
       "       [-0.74485247,  0.65242814, -0.75235503,  0.98408355]])"
      ]
     },
     "execution_count": 161,
     "metadata": {},
     "output_type": "execute_result"
    }
   ],
   "source": [
    "array = np.random.randn(3,4)\n",
    "array"
   ]
  },
  {
   "cell_type": "code",
   "execution_count": 163,
   "id": "fe31549a-bdb1-4f92-821c-b3e53d67d8bf",
   "metadata": {},
   "outputs": [
    {
     "data": {
      "text/plain": [
       "array([[-1.698, -0.985, -0.379, -1.631],\n",
       "       [ 0.518,  1.343,  0.314,  0.974],\n",
       "       [-0.745,  0.652, -0.752,  0.984]])"
      ]
     },
     "execution_count": 163,
     "metadata": {},
     "output_type": "execute_result"
    }
   ],
   "source": [
    "np.round(array , decimals = 3)"
   ]
  },
  {
   "cell_type": "code",
   "execution_count": 169,
   "id": "2bc2a6a6-ed41-418d-bbe2-9a106b426b96",
   "metadata": {},
   "outputs": [
    {
     "name": "stdout",
     "output_type": "stream",
     "text": [
      "['golf' 'cricket' 'cricket' 'hockey' 'football' 'chess' 'basketball']\n"
     ]
    },
    {
     "data": {
      "text/plain": [
       "array(['basketball', 'chess', 'cricket', 'football', 'golf', 'hockey'],\n",
       "      dtype='<U10')"
      ]
     },
     "execution_count": 169,
     "metadata": {},
     "output_type": "execute_result"
    }
   ],
   "source": [
    "sports = np.array (['golf','cricket','cricket','hockey','football','chess','basketball'])\n",
    "print(sports)\n",
    "np.unique(sports)"
   ]
  }
 ],
 "metadata": {
  "kernelspec": {
   "display_name": "Python 3 (ipykernel)",
   "language": "python",
   "name": "python3"
  },
  "language_info": {
   "codemirror_mode": {
    "name": "ipython",
    "version": 3
   },
   "file_extension": ".py",
   "mimetype": "text/x-python",
   "name": "python",
   "nbconvert_exporter": "python",
   "pygments_lexer": "ipython3",
   "version": "3.11.7"
  }
 },
 "nbformat": 4,
 "nbformat_minor": 5
}
