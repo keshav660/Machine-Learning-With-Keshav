{
 "cells": [
  {
   "cell_type": "code",
   "execution_count": 27,
   "id": "aa2a9c11-7e53-49cf-9501-41c16ab2524e",
   "metadata": {},
   "outputs": [
    {
     "name": "stdout",
     "output_type": "stream",
     "text": [
      "<class 'numpy.ndarray'>\n"
     ]
    }
   ],
   "source": [
    "import numpy as np\n",
    "\n",
    "a = np.array([1, 2, 3])   # Create a rank 1 array\n",
    "print(type(a))            # Prints \"<class 'numpy.ndarray'>\""
   ]
  },
  {
   "cell_type": "code",
   "execution_count": 28,
   "id": "50b8a36d-7b0a-4d78-b3b0-815f29b38169",
   "metadata": {},
   "outputs": [
    {
     "name": "stdout",
     "output_type": "stream",
     "text": [
      "(3,)\n",
      "1 2 3\n",
      "[5 2 3]\n"
     ]
    }
   ],
   "source": [
    "print(a.shape)            # Prints \"(3,)\"\n",
    "print(a[0], a[1], a[2])   # Prints \"1 2 3\"\n",
    "a[0] = 5                  # Change an element of the array\n",
    "print(a)                  # Prints \"[5, 2, 3]\""
   ]
  },
  {
   "cell_type": "code",
   "execution_count": 29,
   "id": "49fa2a71-4dc2-4292-a7c3-0749a88d62db",
   "metadata": {},
   "outputs": [
    {
     "name": "stdout",
     "output_type": "stream",
     "text": [
      "(2, 3)\n",
      "1 2 4\n"
     ]
    }
   ],
   "source": [
    "b = np.array([[1,2,3],[4,5,6]])    # Create a rank 2 array\n",
    "print(b.shape)                     # Prints \"(2, 3)\"\n",
    "print(b[0, 0], b[0, 1], b[1, 0])   # Prints \"1 2 4\""
   ]
  },
  {
   "cell_type": "code",
   "execution_count": 35,
   "id": "0706a4c3-6d26-4469-9f95-7203b1b5a854",
   "metadata": {},
   "outputs": [
    {
     "name": "stdout",
     "output_type": "stream",
     "text": [
      "[ 0  5 10 15 20 25]\n",
      "[ 1.   5.5 10. ]\n"
     ]
    }
   ],
   "source": [
    "#arange: returns evenly spaced values within a given interval. step size is specified.\n",
    "#linspace: returns evenly spaced values within a given interval. num no. of elements are returned.\n",
    "\n",
    "A = np.arange(0, 30, 5)\n",
    "print(A)\n",
    "B = np.linspace(1, 10, 3)\n",
    "print(B)\n"
   ]
  },
  {
   "cell_type": "code",
   "execution_count": 38,
   "id": "2823ecfb-bcc7-44f6-a055-801f4069e68d",
   "metadata": {},
   "outputs": [
    {
     "name": "stdout",
     "output_type": "stream",
     "text": [
      "[[2 3]\n",
      " [6 7]]\n"
     ]
    }
   ],
   "source": [
    "\n",
    "#Slicing: Similar to Python lists, numpy arrays can be sliced. \n",
    "#Since arrays may be multidimensional, you must specify a slice for each dimension of the array.\n",
    "\n",
    "a = np.array([[1,2,3,4], [5,6,7,8], [9,10,11,12]])\n",
    "b = a[:2, 1:3]\n",
    "print(b)\n"
   ]
  },
  {
   "cell_type": "code",
   "execution_count": 41,
   "id": "047e91a7-b22b-4713-9233-975cd442d4d2",
   "metadata": {},
   "outputs": [
    {
     "name": "stdout",
     "output_type": "stream",
     "text": [
      "[4 5 8 6]\n",
      "[-1  0  3  1]\n",
      "[-7  0 21  7]\n",
      "[ 49   0 441  49]\n",
      "[ 49   0 441  49]\n"
     ]
    }
   ],
   "source": [
    "a = np.array([1, 2, 5, 3])\n",
    "a += 3\t\t#add 3 to every element\n",
    "print(a)\n",
    "a -= 5\t\t#sub 5 from every element\n",
    "print(a)\n",
    "a *= 7\t\t#multiply each element by 7\n",
    "print(a)\n",
    "\n",
    "a **= 2\t\t#squaring each element\n",
    "print(a)\n",
    "a = a.T\t\t#taking transpose\n",
    "print(a.T)\n"
   ]
  },
  {
   "cell_type": "code",
   "execution_count": 44,
   "id": "74587995-9b58-44b6-852c-97fe086d3da5",
   "metadata": {},
   "outputs": [
    {
     "name": "stdout",
     "output_type": "stream",
     "text": [
      "9\n",
      "9\n",
      "1\n",
      "38\n",
      "38\n",
      "[ 1  6 12 16 23 25 28 29 38]\n"
     ]
    }
   ],
   "source": [
    "arr = np.array([[1, 5, 6], [4, 7, 2], [3, 1, 9]])\n",
    "# maximum element of array\n",
    "print(arr.max())\n",
    "\n",
    "# row-wise maximum elements\n",
    "arr.max(axis=1)\n",
    "print(arr.max())\n",
    "\n",
    "# column wise minimum elements\n",
    "arr.min(axis=0)\n",
    "print(arr.min())\n",
    "\n",
    "# sum of all array elements\n",
    "arr.sum()\n",
    "print(arr.sum())\n",
    "\n",
    "# sum of each row\n",
    "arr.sum(axis=1)\n",
    "print(arr.sum())\n",
    "\n",
    "# cumulative sum along each row\n",
    "arr.cumsum(axis=1)\n",
    "print(arr.cumsum())\n"
   ]
  },
  {
   "cell_type": "code",
   "execution_count": 45,
   "id": "fda930bb-dacc-471b-b3e7-5190252191ee",
   "metadata": {},
   "outputs": [
    {
     "name": "stdout",
     "output_type": "stream",
     "text": [
      "[[5 5]\n",
      " [5 5]]\n",
      "[[-3 -1]\n",
      " [ 1  3]]\n",
      "[[4 6]\n",
      " [6 4]]\n",
      "[[ 8  5]\n",
      " [20 13]]\n"
     ]
    }
   ],
   "source": [
    "a = np.array([[1, 2], [3, 4]])\n",
    "b = np.array([[4, 3], [2, 1]])\n",
    "print(a+b)\n",
    "print(a-b)\n",
    "print(a*b)\n",
    "print(a.dot(b))\n"
   ]
  },
  {
   "cell_type": "code",
   "execution_count": 46,
   "id": "89ad704b-fe5c-4585-be68-97768a55b908",
   "metadata": {},
   "outputs": [
    {
     "name": "stdout",
     "output_type": "stream",
     "text": [
      "[0.         1.57079633 3.14159265]\n",
      "[0.0000000e+00 1.0000000e+00 1.2246468e-16]\n",
      "[ 1.          4.81047738 23.14069263]\n",
      "[0.         1.25331414 1.77245385]\n"
     ]
    }
   ],
   "source": [
    "a = np.array([0, np.pi/2, np.pi])\n",
    "print(a)\n",
    "print(np.sin(a))\n",
    "print(np.exp(a))\n",
    "print(np.sqrt(a))\n"
   ]
  },
  {
   "cell_type": "code",
   "execution_count": null,
   "id": "fd1026b0-5a58-4288-acb8-e3845a773caa",
   "metadata": {},
   "outputs": [],
   "source": []
  },
  {
   "cell_type": "code",
   "execution_count": null,
   "id": "ed5a4a79-2db6-46cf-bd2d-193f53f6d35d",
   "metadata": {},
   "outputs": [],
   "source": []
  },
  {
   "cell_type": "code",
   "execution_count": 30,
   "id": "b7c31982-a2de-41f0-b849-c28574c47eda",
   "metadata": {},
   "outputs": [
    {
     "name": "stdout",
     "output_type": "stream",
     "text": [
      "[[0. 0.]\n",
      " [0. 0.]]\n"
     ]
    }
   ],
   "source": [
    "a = np.zeros((2,2))   # Create an array of all zeros\n",
    "print(a) "
   ]
  },
  {
   "cell_type": "code",
   "execution_count": 31,
   "id": "ee859a05-503b-44c2-b2a9-06bd27212b00",
   "metadata": {},
   "outputs": [
    {
     "name": "stdout",
     "output_type": "stream",
     "text": [
      "[[1. 1.]]\n"
     ]
    }
   ],
   "source": [
    "b = np.ones((1,2))    # Create an array of all ones\n",
    "print(b)              # Prints \"[[ 1.  1.]]\""
   ]
  },
  {
   "cell_type": "code",
   "execution_count": 32,
   "id": "c4d130dd-d522-4ff6-a405-a7c31609c8ff",
   "metadata": {},
   "outputs": [
    {
     "name": "stdout",
     "output_type": "stream",
     "text": [
      "[[7 7]\n",
      " [7 7]]\n"
     ]
    }
   ],
   "source": [
    "c = np.full((2,2), 7)  # Create a constant array\n",
    "print(c)"
   ]
  },
  {
   "cell_type": "code",
   "execution_count": 33,
   "id": "e11f9d7a-ce31-4eb7-a0dc-ac0ae7d0a018",
   "metadata": {},
   "outputs": [
    {
     "name": "stdout",
     "output_type": "stream",
     "text": [
      "[[1. 0.]\n",
      " [0. 1.]]\n"
     ]
    }
   ],
   "source": [
    "d = np.eye(2)         # Create a 2x2 identity matrix\n",
    "print(d)  "
   ]
  },
  {
   "cell_type": "code",
   "execution_count": 34,
   "id": "61a16484-48dc-49a9-bc4d-8c75e9da7f09",
   "metadata": {},
   "outputs": [
    {
     "name": "stdout",
     "output_type": "stream",
     "text": [
      "[[0.77192812 0.71195705]\n",
      " [0.00811079 0.22543279]]\n"
     ]
    }
   ],
   "source": [
    "e = np.random.random((2,2))  # Create an array filled with random values\n",
    "print(e)  "
   ]
  },
  {
   "cell_type": "code",
   "execution_count": 2,
   "id": "203a55e0-cf68-4ad3-8526-8eee9e3ea95b",
   "metadata": {},
   "outputs": [
    {
     "name": "stdout",
     "output_type": "stream",
     "text": [
      "[ 5  8 12]\n"
     ]
    }
   ],
   "source": [
    "import numpy as np\n",
    "\n",
    "#create numpy array\n",
    "a = np.array([5, 8, 12])\n",
    "print(a)"
   ]
  },
  {
   "cell_type": "code",
   "execution_count": 6,
   "id": "c150b502-91de-42c4-83cb-6fe2307bd1e9",
   "metadata": {},
   "outputs": [
    {
     "name": "stdout",
     "output_type": "stream",
     "text": [
      "[ 5  7  9 11 13]\n"
     ]
    }
   ],
   "source": [
    "import numpy as np\n",
    "\n",
    "#create numpy array    /////#[start, start+interval, start+2*interval, ... ]\n",
    "a = np.arange(5, 14, 2)\n",
    "print(a) \n",
    "#Array starts with 5 and continues till 14 in the interval of 2."
   ]
  },
  {
   "cell_type": "code",
   "execution_count": 7,
   "id": "750aa2a2-5852-4700-83ce-70900e9fda28",
   "metadata": {},
   "outputs": [
    {
     "name": "stdout",
     "output_type": "stream",
     "text": [
      "[[ 1  2  3  4]\n",
      " [ 5  6  7  8]\n",
      " [ 9 10 11 12]]\n"
     ]
    }
   ],
   "source": [
    "#Create 2D Array using numpy.array()\n",
    "import numpy as np\n",
    "\n",
    "# create a 2D array with shape (3, 4)\n",
    "arr = np.array([[1, 2, 3, 4], [5, 6, 7, 8], [9, 10, 11, 12]])\n",
    "\n",
    "print(arr)"
   ]
  },
  {
   "cell_type": "code",
   "execution_count": 8,
   "id": "1e7aa32c-68db-4b29-8eb5-d69f59ca8ad0",
   "metadata": {},
   "outputs": [
    {
     "name": "stdout",
     "output_type": "stream",
     "text": [
      "[[0. 0. 0. 0.]\n",
      " [0. 0. 0. 0.]\n",
      " [0. 0. 0. 0.]]\n"
     ]
    }
   ],
   "source": [
    "import numpy as np\n",
    "\n",
    "# create a 2D array with shape (3, 4)\n",
    "shape = (3, 4)\n",
    "arr = np.zeros(shape)\n",
    "\n",
    "print(arr)"
   ]
  },
  {
   "cell_type": "code",
   "execution_count": 9,
   "id": "5bc8ee01-963f-4668-a838-62c195383e86",
   "metadata": {},
   "outputs": [
    {
     "name": "stdout",
     "output_type": "stream",
     "text": [
      "[[1. 1. 1. 1.]\n",
      " [1. 1. 1. 1.]\n",
      " [1. 1. 1. 1.]]\n"
     ]
    }
   ],
   "source": [
    "import numpy as np\n",
    "\n",
    "# create a 2D array with shape (3, 4)\n",
    "shape = (3, 4)\n",
    "arr = np.ones(shape)\n",
    "\n",
    "print(arr)"
   ]
  },
  {
   "cell_type": "code",
   "execution_count": 10,
   "id": "22d10a6e-93d5-424e-a827-81cac5d4d4ce",
   "metadata": {},
   "outputs": [
    {
     "name": "stdout",
     "output_type": "stream",
     "text": [
      "[[1. 1. 1. 1.]\n",
      " [1. 1. 1. 1.]\n",
      " [1. 1. 1. 1.]]\n"
     ]
    }
   ],
   "source": [
    "import numpy as np\n",
    "\n",
    "# create a 2D array with shape (3, 4)\n",
    "shape = (3, 4)\n",
    "arr = np.empty(shape)\n",
    "\n",
    "print(arr)"
   ]
  },
  {
   "cell_type": "code",
   "execution_count": 11,
   "id": "f0776e0a-3e89-40b4-9e85-c7e85664b9a1",
   "metadata": {},
   "outputs": [
    {
     "name": "stdout",
     "output_type": "stream",
     "text": [
      "[[[ 1  2  3  4]\n",
      "  [ 5  6  7  8]\n",
      "  [ 9 10 11 12]]\n",
      "\n",
      " [[13 14 15 16]\n",
      "  [17 18 19 20]\n",
      "  [21 22 23 24]]]\n"
     ]
    }
   ],
   "source": [
    "#Create 3D Array using numpy.array()\n",
    "import numpy as np\n",
    "\n",
    "# create a 3D array with shape (2, 3, 4)\n",
    "nested_list = [[[1, 2, 3, 4], [5, 6, 7, 8], [9, 10, 11, 12]],\n",
    "               [[13, 14, 15, 16], [17, 18, 19, 20], [21, 22, 23, 24]]]\n",
    "arr = np.array(nested_list)\n",
    "\n",
    "print(arr)\n"
   ]
  },
  {
   "cell_type": "code",
   "execution_count": 12,
   "id": "9d64f0c8-5976-400b-bb0c-4966ba5795f9",
   "metadata": {},
   "outputs": [
    {
     "name": "stdout",
     "output_type": "stream",
     "text": [
      "[[[0. 0. 0. 0.]\n",
      "  [0. 0. 0. 0.]\n",
      "  [0. 0. 0. 0.]]\n",
      "\n",
      " [[0. 0. 0. 0.]\n",
      "  [0. 0. 0. 0.]\n",
      "  [0. 0. 0. 0.]]]\n"
     ]
    }
   ],
   "source": [
    "import numpy as np\n",
    "\n",
    "# create a 3D array with shape (2, 3, 4)\n",
    "shape = (2, 3, 4)\n",
    "arr = np.zeros(shape)\n",
    "\n",
    "print(arr)"
   ]
  },
  {
   "cell_type": "code",
   "execution_count": 13,
   "id": "b8d4f23e-63c4-43b6-8104-74d38bb9ab93",
   "metadata": {},
   "outputs": [
    {
     "name": "stdout",
     "output_type": "stream",
     "text": [
      "[[[1. 1. 1. 1.]\n",
      "  [1. 1. 1. 1.]\n",
      "  [1. 1. 1. 1.]]\n",
      "\n",
      " [[1. 1. 1. 1.]\n",
      "  [1. 1. 1. 1.]\n",
      "  [1. 1. 1. 1.]]]\n"
     ]
    }
   ],
   "source": [
    "import numpy as np\n",
    "\n",
    "# create a 3D array with shape (2, 3, 4)\n",
    "shape = (2, 3, 4)\n",
    "arr = np.ones(shape)\n",
    "\n",
    "print(arr)"
   ]
  },
  {
   "cell_type": "code",
   "execution_count": 14,
   "id": "4ffd8940-feff-459f-a8bc-5daeb22ac025",
   "metadata": {},
   "outputs": [
    {
     "name": "stdout",
     "output_type": "stream",
     "text": [
      "[0.18231182 0.62181476 0.05349248 0.23697327 0.48485567 0.49996642\n",
      " 0.31110896]\n"
     ]
    }
   ],
   "source": [
    "#Create NumPy Array with Random Values\n",
    "import numpy as np\n",
    "\n",
    "#numpy array with random values\n",
    "a = np.random.rand(7)\n",
    "\n",
    "print(a)\n"
   ]
  },
  {
   "cell_type": "code",
   "execution_count": 15,
   "id": "f4fa6da1-64bb-434f-8f52-ea5a204eec24",
   "metadata": {},
   "outputs": [
    {
     "name": "stdout",
     "output_type": "stream",
     "text": [
      "[[0.63675996 0.78254647 0.65646161 0.90201751]\n",
      " [0.76377693 0.95963905 0.93694503 0.43374916]]\n"
     ]
    }
   ],
   "source": [
    "import numpy as np\n",
    "\n",
    "#numpy array with random values\n",
    "a = np.random.rand(2,4)\n",
    "\n",
    "print(a)"
   ]
  },
  {
   "cell_type": "code",
   "execution_count": 16,
   "id": "62557028-d605-45ed-a947-bf2e6466267a",
   "metadata": {},
   "outputs": [
    {
     "name": "stdout",
     "output_type": "stream",
     "text": [
      "[[[0.90466354 0.9239906  0.84814012]\n",
      "  [0.07020833 0.787785   0.53087786]]\n",
      "\n",
      " [[0.16359551 0.25322268 0.75514763]\n",
      "  [0.36596943 0.31890173 0.09307925]]\n",
      "\n",
      " [[0.18805085 0.83315439 0.12205029]\n",
      "  [0.53837432 0.28311943 0.50128905]]\n",
      "\n",
      " [[0.47186926 0.43518187 0.48764839]\n",
      "  [0.45318443 0.90306049 0.37810291]]]\n"
     ]
    }
   ],
   "source": [
    "import numpy as np\n",
    "\n",
    "#numpy array with random values\n",
    "a = np.random.rand(4,2,3)\n",
    "\n",
    "print(a)"
   ]
  },
  {
   "cell_type": "code",
   "execution_count": 17,
   "id": "2c601865-8c16-43dd-bdf0-8dc570f4c649",
   "metadata": {},
   "outputs": [
    {
     "name": "stdout",
     "output_type": "stream",
     "text": [
      "[[ 1  2  3  4]\n",
      " [ 5  6  7  8]\n",
      " [ 9 10 11 12]]\n"
     ]
    }
   ],
   "source": [
    "#NumPy – Print Array\n",
    "import numpy as np\n",
    "\n",
    "arr = np.array([[1, 2, 3, 4], [5, 6, 7, 8], [9, 10, 11, 12]])\n",
    "\n",
    "print(arr)"
   ]
  },
  {
   "cell_type": "code",
   "execution_count": 19,
   "id": "29eb396b-f906-4caa-babe-a446f9806d5b",
   "metadata": {},
   "outputs": [
    {
     "name": "stdout",
     "output_type": "stream",
     "text": [
      "Original Array:\n",
      "[[1 2 3]\n",
      " [4 5 6]]\n",
      "Transposed Array:\n",
      "[[1 4]\n",
      " [2 5]\n",
      " [3 6]]\n"
     ]
    }
   ],
   "source": [
    "import numpy as np\n",
    "\n",
    "arr1 = np.array([[1, 2, 3], [4, 5, 6]])\n",
    "\n",
    "print(f'Original Array:\\n{arr1}')\n",
    "\n",
    "arr1_transpose = arr1.transpose()\n",
    "\n",
    "print(f'Transposed Array:\\n{arr1_transpose}')"
   ]
  },
  {
   "cell_type": "code",
   "execution_count": 22,
   "id": "d190d03c-b8b8-48c6-ac53-576962c94d97",
   "metadata": {},
   "outputs": [
    {
     "name": "stdout",
     "output_type": "stream",
     "text": [
      "[[1 4]\n",
      " [2 5]\n",
      " [3 6]]\n"
     ]
    }
   ],
   "source": [
    "arr1 = [[1, 2, 3], [4, 5, 6]]\n",
    "\n",
    "arr1_transpose = np.transpose(arr1)\n",
    "print(arr1_transpose)"
   ]
  },
  {
   "cell_type": "code",
   "execution_count": 23,
   "id": "a4391fea-384e-4b13-897b-7728eecb64c9",
   "metadata": {},
   "outputs": [
    {
     "name": "stdout",
     "output_type": "stream",
     "text": [
      "[[ 0.17647059 -0.00326797 -0.02287582]\n",
      " [ 0.05882353 -0.13071895  0.08496732]\n",
      " [-0.11764706  0.1503268   0.05228758]]\n"
     ]
    }
   ],
   "source": [
    "# Import required package\n",
    "import numpy as np\n",
    " \n",
    "# Taking a 3 * 3 matrix\n",
    "A = np.array([[6, 1, 1],\n",
    "              [4, -2, 5],\n",
    "              [2, 8, 7]])\n",
    " \n",
    "# Calculating the inverse of the matrix\n",
    "print(np.linalg.inv(A))"
   ]
  },
  {
   "cell_type": "code",
   "execution_count": 24,
   "id": "52ce737c-362e-4055-b931-ff3d0c940e3c",
   "metadata": {},
   "outputs": [
    {
     "name": "stdout",
     "output_type": "stream",
     "text": [
      "[[ 0.13368984  0.10695187  0.02139037 -0.09090909]\n",
      " [-0.00229183  0.02673797  0.14820474 -0.12987013]\n",
      " [-0.12987013  0.18181818  0.06493506 -0.02597403]\n",
      " [ 0.11000764 -0.28342246 -0.11382735  0.23376623]]\n"
     ]
    }
   ],
   "source": [
    "# Import required package\n",
    "import numpy as np\n",
    " \n",
    "# Taking a 4 * 4 matrix\n",
    "A = np.array([[6, 1, 1, 3],\n",
    "              [4, -2, 5, 1],\n",
    "              [2, 8, 7, 6],\n",
    "              [3, 1, 9, 7]])\n",
    " \n",
    "# Calculating the inverse of the matrix\n",
    "print(np.linalg.inv(A))"
   ]
  },
  {
   "cell_type": "code",
   "execution_count": 18,
   "id": "4b9d19f3-9b5e-4716-a266-ba4651010cf1",
   "metadata": {},
   "outputs": [
    {
     "name": "stdout",
     "output_type": "stream",
     "text": [
      "Matrix A is:\n",
      " [[1 2 3]\n",
      " [4 5 6]\n",
      " [1 2 1]]\n",
      "Matrix A is:\n",
      " [[1 1 1]\n",
      " [0 1 0]\n",
      " [1 1 1]]\n",
      "The Matrix multiplication of matrix A and B is:\n",
      " [[ 4  6  4]\n",
      " [10 15 10]\n",
      " [ 2  4  2]]\n"
     ]
    }
   ],
   "source": [
    "import numpy as np\n",
    "\n",
    "A = np.array([[1,2,3], [4,5,6],[1,2,1]])\n",
    "B = np.array([[1,1,1], [0,1,0], [1,1,1]])\n",
    "\n",
    "print(\"Matrix A is:\\n\",A)\n",
    "print(\"Matrix A is:\\n\",B)\n",
    "\n",
    "C = np.matmul(A,B)\n",
    "print(\"The Matrix multiplication of matrix A and B is:\\n\",C)\n"
   ]
  },
  {
   "cell_type": "code",
   "execution_count": 1,
   "id": "6e4089f6-9dcc-48f2-b2c4-f7864c385fae",
   "metadata": {},
   "outputs": [
    {
     "name": "stdout",
     "output_type": "stream",
     "text": [
      "Matrix p :\n",
      "[[1, 2], [2, 3]]\n",
      "Matrix q :\n",
      "[[4, 5], [6, 7]]\n",
      "The matrix multiplication is :\n",
      "[[16 19]\n",
      " [26 31]]\n"
     ]
    }
   ],
   "source": [
    "# importing the module\n",
    "import numpy as np\n",
    "  \n",
    "# creating two matrices\n",
    "p = [[1, 2], [2, 3]]\n",
    "q = [[4, 5], [6, 7]]\n",
    "print(\"Matrix p :\")\n",
    "print(p)\n",
    "print(\"Matrix q :\")\n",
    "print(q)\n",
    "  \n",
    "# computing product\n",
    "result = np.dot(p, q)\n",
    "  \n",
    "# printing the result\n",
    "print(\"The matrix multiplication is :\")\n",
    "print(result)"
   ]
  },
  {
   "cell_type": "code",
   "execution_count": 2,
   "id": "e07c56ee-63ed-4c77-ba23-591cd2741a90",
   "metadata": {},
   "outputs": [
    {
     "name": "stdout",
     "output_type": "stream",
     "text": [
      "Mean: 8.0\n",
      "Median: 8.0\n",
      "Mode: 1\n",
      "Range: 14\n",
      "Variance: 20.0\n",
      "Standard Deviation: 4.47213595499958\n",
      "Interquartile Range (IQR): 7.0\n"
     ]
    }
   ],
   "source": [
    "import numpy as np\n",
    "from scipy import stats\n",
    "\n",
    "# Sample dataset\n",
    "#data = [10, 15, 20, 25, 30, 35, 40, 45, 50]\n",
    "data = [1, 2, 3, 4, 5, 6, 7, 8, 9, 10, 11, 12, 13, 14, 15]\n",
    "\n",
    "\n",
    "# Mean\n",
    "mean = np.mean(data)\n",
    "print(\"Mean:\", mean)\n",
    "\n",
    "# Median\n",
    "median = np.median(data)\n",
    "print(\"Median:\", median)\n",
    "\n",
    "# Mode\n",
    "mode = stats.mode(data)\n",
    "print(\"Mode:\", mode[0])\n",
    "\n",
    "# Range\n",
    "data_range = np.max(data) - np.min(data)\n",
    "print(\"Range:\", data_range)\n",
    "\n",
    "# Variance\n",
    "variance = np.var(data, ddof=1)  # ddof=1 for sample variance\n",
    "print(\"Variance:\", variance)\n",
    "\n",
    "# Standard Deviation\n",
    "std_deviation = np.std(data, ddof=1)  # ddof=1 for sample standard deviation\n",
    "print(\"Standard Deviation:\", std_deviation)\n",
    "\n",
    "# Interquartile Range (IQR)\n",
    "q1 = np.percentile(data, 25)\n",
    "q3 = np.percentile(data, 75)\n",
    "iqr = q3 - q1\n",
    "print(\"Interquartile Range (IQR):\", iqr)"
   ]
  },
  {
   "cell_type": "code",
   "execution_count": 1,
   "id": "82d5c521-6164-41b3-89d3-a6bc3d3e03cc",
   "metadata": {},
   "outputs": [
    {
     "data": {
      "image/png": "[encoded data removed]",
      "text/plain": [
       "<Figure size 640x480 with 1 Axes>"
      ]
     },
     "metadata": {},
     "output_type": "display_data"
    }
   ],
   "source": [
    "import matplotlib.pyplot as plt\n",
    "\n",
    "#data = [55, 60, 65, 70, 72, 75, 78, 80, 82, 85, 88, 90, 92, 95, 100, 120]\n",
    "data = [1, 2, 3, 4, 5, 6, 7, 8, 9, 10, 11, 12, 13, 14, 15]\n",
    "\n",
    "plt.boxplot(data)\n",
    "plt.title('Box Plot of Exam Scores')\n",
    "plt.ylabel('Score')\n",
    "plt.show()"
   ]
  },
  {
   "cell_type": "code",
   "execution_count": null,
   "id": "08df93c1-3adf-47cd-b527-ef29d46971e8",
   "metadata": {},
   "outputs": [],
   "source": []
  }
 ],
 "metadata": {
  "kernelspec": {
   "display_name": "Python 3 (ipykernel)",
   "language": "python",
   "name": "python3"
  },
  "language_info": {
   "codemirror_mode": {
    "name": "ipython",
    "version": 3
   },
   "file_extension": ".py",
   "mimetype": "text/x-python",
   "name": "python",
   "nbconvert_exporter": "python",
   "pygments_lexer": "ipython3",
   "version": "3.11.9"
  }
 },
 "nbformat": 4,
 "nbformat_minor": 5
}
